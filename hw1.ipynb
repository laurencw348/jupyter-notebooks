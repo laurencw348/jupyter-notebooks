{
 "cells": [
  {
   "cell_type": "markdown",
   "metadata": {
    "narrative": true
   },
   "source": [
    "# INFO 2950 Homework 1"
   ]
  },
  {
   "cell_type": "markdown",
   "metadata": {
    "narrative": true
   },
   "source": [
    "This week, our goal is to (re-)familiarize ourselves with the basics of Python, and start getting to know the `pandas` package, which helps us work with data frames. We will also discuss cleaning data. "
   ]
  },
  {
   "cell_type": "markdown",
   "metadata": {
    "narrative": true
   },
   "source": [
    "## Part 1: Discussion Question\n",
    "\n",
    "As a data scientist, you'll be asked to build various tools and systems all the time. While you might be *capable* of performing these tasks, it's always worth asking yourself: should you?\n",
    "\n",
    "Below is a list of scenarios. In each case, answer the discussion question: **If you were to build this system, how might its use affect people (be it positively or negatively)?**\n",
    "\n",
    "### Scenarios\n",
    "1. You work for an e-commerce site that wants to direct customers to items they would likely be interested in and avoiding serving them irrelevant ads. You've been asked to build an advertisement system that recommends products to customers based on a variety of attributes, including their age, income level, locale, gender, etc.\n",
    "1. You work for a news site that lives or dies from ad revenue. Advertisers don't want their ads next to \"controversial\" news items. You've been asked to build a classifier for \"touchy subjects\".\n",
    "1. You work for a public health agency that wants to identify people exposed to a disease for testing. You've been asked to build a system that will trace phone locations and estimate proximity between individuals to infer exposure.\n",
    "1. You work for a university that wants to identify students having difficulties with stress and mental health. You've been asked to build a system that will identify students who aren't going to class.\n"
   ]
  },
  {
   "cell_type": "markdown",
   "metadata": {
    "problem": 1
   },
   "source": [
    "---\n",
    "\n",
    "## Problem 1 (6 pts)\n",
    "*Remember not to move or modify problem header cells, like this one; we use it for automated homework analysis.* \n",
    "\n",
    "Choose **two** of the above scenarios, and in each case, answer the discussion question.\n",
    "\n",
    "---"
   ]
  },
  {
   "cell_type": "markdown",
   "metadata": {},
   "source": [
    "**Problem 3:** This system will most prominently impact the people who's phones will be tracked. If users do not give their full and proper consent to have their location tracked 24/7, then the system is in serious violation of their privacy.  This is especially true if people's location data is stored and packanged on the system and can be sold to other companies. However, the technology could also positively impact people who's location is tracked,, as they will be notified if they are a close contact and may subsequently seek testing that they wouldn't have without this technology. This could thus improve public health, and positively impact the entire community by limiting the spread of the disease."
   ]
  },
  {
   "cell_type": "markdown",
   "metadata": {},
   "source": [
    "**Problem 1** This system could positively impact customers who receive tailored ads as they may discover products that are relevant to them that they wouldn't have without the system. However, as with the previous problem, if user's sensitive data such as age and income level is stored and can be packaged and resold to third parties, then this could negatively impact people because their data is being used without their knowledge or consent. This system will also positively impact the workers of the e-commerce site, as their sales revenue could drastically increase since the system is showing customers the proucts they are most likely to purchase."
   ]
  },
  {
   "cell_type": "markdown",
   "metadata": {
    "narrative": true
   },
   "source": [
    "---\n",
    "\n",
    "## Part 2: Python Basics\n",
    "\n",
    "Twitter is full of controversies, but a recent one over whether or not 2 + 2 = 5 sparked a lot of discussion in the math and stats world. Here's [a great thread](https://twitter.com/kareem_carr/status/1289724475609501697) on this issue.\n",
    "\n",
    "A key point from this thread: \n",
    "\n",
    "_\"Our numbers, our quantitative measures, are abstractions of real underlying things in the universe and it's important to keep track of this when we use numbers to model the real world.\"_\n",
    "\n",
    "So what does this Twitter controversy have to do with Python...? Let's try to compute 2 + 2 in a few ways and see what happens.\n"
   ]
  },
  {
   "cell_type": "code",
   "execution_count": 2,
   "metadata": {
    "narrative": true
   },
   "outputs": [
    {
     "name": "stdout",
     "output_type": "stream",
     "text": [
      "2 + 2 = 4\n",
      "2 + 2 = 4.0\n",
      "2 + 2 = 22\n"
     ]
    }
   ],
   "source": [
    "## example 1\n",
    "x = 2\n",
    "print(\"2 + 2 =\", x + x)\n",
    "\n",
    "## example 2\n",
    "y = 2.0\n",
    "print(\"2 + 2 =\", y + y)\n",
    "\n",
    "## example 3\n",
    "z = \"2\"\n",
    "print(\"2 + 2 =\", z + z)"
   ]
  },
  {
   "cell_type": "markdown",
   "metadata": {
    "narrative": true
   },
   "source": [
    "2 + 2 = ... 22? What's going on here?"
   ]
  },
  {
   "cell_type": "markdown",
   "metadata": {
    "problem": 2
   },
   "source": [
    "---\n",
    "\n",
    "## Problem 2 (4 pts)\n",
    "\n",
    "What is the difference between each of the three examples of arithmetic above? In particular, explain why example 3 produced \"2 + 2 = 22\". \n",
    "\n",
    "---"
   ]
  },
  {
   "cell_type": "markdown",
   "metadata": {},
   "source": [
    "In the first example, since x is set to be integer, while in 2, y is a float. In example 3, Z is set to be a string, and therefore Python is performing string concatenation which means it simply adds the 2 strings together instead of performing arithmetics. "
   ]
  },
  {
   "cell_type": "markdown",
   "metadata": {
    "problem": 3
   },
   "source": [
    "---\n",
    "\n",
    "We can perform any number of simple arithmetic operations with Python, but its power lies in our ability automate simple tasks with a few lines of code. In doing so, for loops are often very useful.\n",
    "\n",
    "---\n",
    "\n",
    "## Problem 3 (6 pts)\n",
    "\n",
    "Start with the list of integers from 0 to 15 (inclusive). Write a for loop that iterates through this list to create a new list, where three has been added to each integer in the original list. Print the final list.\n",
    "\n",
    "*(**Hint:** use the [`range`](https://python-reference.readthedocs.io/en/latest/docs/functions/range.html?highlight=range) function to iterate over in your for loop.)*\n",
    "\n",
    "*(**Confidence check:** your code should print `[3, 4, 5, 6, 7, 8, 9, 10, 11, 12, 13, 14, 15, 16, 17, 18]`.)* \n",
    "\n",
    "---"
   ]
  },
  {
   "cell_type": "code",
   "execution_count": 3,
   "metadata": {},
   "outputs": [
    {
     "name": "stdout",
     "output_type": "stream",
     "text": [
      "[3, 4, 5, 6, 7, 8, 9, 10, 11, 12, 13, 14, 15, 16, 17, 18]\n"
     ]
    }
   ],
   "source": [
    "x=[0,1,2,3,4,5,6,7,8,9,10,11,12,13,14,15]\n",
    "y=[]\n",
    "for i in x:\n",
    "    y.append(i+3)\n",
    "print(y)"
   ]
  },
  {
   "cell_type": "markdown",
   "metadata": {
    "narrative": true
   },
   "source": [
    "---\n",
    "\n",
    "For loops are very literal, which makes them straightforward to understand and write. However, they can get a little verbose and they are not always the most computationally efficient.\n",
    "\n",
    "List comprehensions are a sleek alternative that you will (hopefully) come to love in this course. Their syntax is designed to be simple. It looks like this:\n",
    "\n",
    "`[`expression `for` item `in` list`]`\n",
    "\n",
    "For instance, the for loop you wrote in problem 3 can be written succinctly with a list comprehension:"
   ]
  },
  {
   "cell_type": "code",
   "execution_count": 4,
   "metadata": {
    "narrative": true
   },
   "outputs": [
    {
     "name": "stdout",
     "output_type": "stream",
     "text": [
      "[3, 4, 5, 6, 7, 8, 9, 10, 11, 12, 13, 14, 15, 16, 17, 18]\n"
     ]
    }
   ],
   "source": [
    "new_list_of_ints = [i+3 for i in range(16)]\n",
    "print(new_list_of_ints)"
   ]
  },
  {
   "cell_type": "markdown",
   "metadata": {
    "narrative": true
   },
   "source": [
    "You can also include `if` conditions on the original list in the list comprehension..."
   ]
  },
  {
   "cell_type": "markdown",
   "metadata": {
    "problem": 4
   },
   "source": [
    "---\n",
    "\n",
    "## Problem 4 (4 pts)\n",
    "\n",
    "Copy the above list comprehension and add an if statement (within the list comprehension) after `range(16)` so that the list it creates includes only integers that leave a remainder of 2 when divided by 3. The `i+3 for i in range(16)` part of the list comprehension should remain completely unmodified in your solution.   \n",
    "\n",
    "*(**Hint:** You may want to make use the [modulus](https://python-reference.readthedocs.io/en/latest/docs/operators/modulus.html) operator)*\n",
    "\n",
    "*(**Confidence check:** your code should print `[5, 8, 11, 14, 17]`.)* \n",
    "\n",
    "---"
   ]
  },
  {
   "cell_type": "code",
   "execution_count": 5,
   "metadata": {},
   "outputs": [
    {
     "name": "stdout",
     "output_type": "stream",
     "text": [
      "[5, 8, 11, 14, 17]\n"
     ]
    }
   ],
   "source": [
    "new_list_of_ints = [i+3 for i in range(16) if i%3==2]\n",
    "print(new_list_of_ints)"
   ]
  },
  {
   "cell_type": "markdown",
   "metadata": {
    "narrative": true
   },
   "source": [
    "---\n",
    "\n",
    "## Part 3: `pandas` and Data Cleaning\n",
    "\n",
    "The [`pandas`](https://pandas.pydata.org/) package is used to perform data analysis. It is essentially a package for working with data frames (i.e. tables of data)."
   ]
  },
  {
   "cell_type": "code",
   "execution_count": 6,
   "metadata": {
    "narrative": true
   },
   "outputs": [],
   "source": [
    "import pandas as pd"
   ]
  },
  {
   "cell_type": "markdown",
   "metadata": {
    "narrative": true
   },
   "source": [
    "We could simply write `import pandas`, but then every time we want to refer to a function in the `pandas` package (e.g. one called `my_function`), we would have to always write `pandas.my_function` to refer to it, and this gets cumbersome. A common way to abbreviate \"pandas\" is \"pd\", which is why we imported it the way we did above. This way, we can refer to functions in the `pandas` package like `pd.my_function` instead.\n",
    "\n",
    "Real world data is often messy and needs a bit of pre-processing or \"cleaning\" before it can by used (easily) for analysis. There is no well-defined list of steps to go through when cleaning data, because it depends on what your raw data looks like to begin with.\n",
    "\n",
    "The data we'll work with now is a set of makeup reviews from the Sephora online store. The original data can be found [here](https://github.com/everestpipkin/datagardens/tree/master/students/khanniie/5_newDataSet), though we've manually altered the data to help illustrate some data cleaning principles.\n",
    "\n",
    "### Data cleaning plan\n",
    "\n",
    "Before we roll up our sleeves and get to cleaning the data, we need to devise a plan:\n",
    "\n",
    "**Step 1:** *Figure out the start point* - what does our (raw) data look like now?\n",
    "\n",
    "**Step 2:** *Set analysis goals* - what kind of analyses might we want to run based on the available data?\n",
    "\n",
    "**Step 3:** *Define the end point* - what form do we want the data in for analysis?\n",
    "\n",
    "**Step 4:** *Make a task list* - what do we need to do to get our data from the start to the end point?\n",
    "\n",
    "Repeat these steps as you come up with more analysis ideas! It won't necessarily happen linearly.\n",
    "\n",
    "Whenever I'm cleaning data, I like to have the `pandas` [cheat sheet](https://pandas.pydata.org/Pandas_Cheat_Sheet.pdf) open, because I need to reference it embarassingly often :)"
   ]
  },
  {
   "cell_type": "markdown",
   "metadata": {
    "problem": 5
   },
   "source": [
    "---\n",
    "\n",
    "## Problem 5 (4 pts)\n",
    "\n",
    "Perform step 1 in the data cleaning plan by loading the data file (`all_reviews.csv`) using `panda`'s `read_csv` function. Save the data to a variable called `raw_reviews` and display the first few rows of the of the data using the [`.head()`](https://pandas.pydata.org/pandas-docs/stable/reference/api/pandas.DataFrame.head.html) data frame method.\n",
    "\n",
    "(*Remember:* The syntax for object-specific methods looks like `variable_name.method_name()`.)\n",
    "\n",
    "---"
   ]
  },
  {
   "cell_type": "code",
   "execution_count": 7,
   "metadata": {
    "scrolled": true
   },
   "outputs": [
    {
     "data": {
      "text/html": [
       "<div>\n",
       "<style scoped>\n",
       "    .dataframe tbody tr th:only-of-type {\n",
       "        vertical-align: middle;\n",
       "    }\n",
       "\n",
       "    .dataframe tbody tr th {\n",
       "        vertical-align: top;\n",
       "    }\n",
       "\n",
       "    .dataframe thead th {\n",
       "        text-align: right;\n",
       "    }\n",
       "</style>\n",
       "<table border=\"1\" class=\"dataframe\">\n",
       "  <thead>\n",
       "    <tr style=\"text-align: right;\">\n",
       "      <th></th>\n",
       "      <th>Brand</th>\n",
       "      <th>Product Name</th>\n",
       "      <th>Product Type</th>\n",
       "      <th>Review Body</th>\n",
       "      <th>Review Date</th>\n",
       "      <th>Review Stars</th>\n",
       "      <th>Review Title</th>\n",
       "      <th>URL</th>\n",
       "      <th>User ID</th>\n",
       "    </tr>\n",
       "  </thead>\n",
       "  <tbody>\n",
       "    <tr>\n",
       "      <th>0</th>\n",
       "      <td>Dior</td>\n",
       "      <td>Diorshow Waterproof Mascara</td>\n",
       "      <td>Mascara</td>\n",
       "      <td>This is my first Sephora product and was recom...</td>\n",
       "      <td>01 01 2011</td>\n",
       "      <td>5 stars</td>\n",
       "      <td>Favorite! :)</td>\n",
       "      <td>https://www.sephora.com/product/diorshow-water...</td>\n",
       "      <td>6.190000e+16</td>\n",
       "    </tr>\n",
       "    <tr>\n",
       "      <th>1</th>\n",
       "      <td>Kat Von D</td>\n",
       "      <td>Tattoo Liner</td>\n",
       "      <td>Liquid Eyeliner</td>\n",
       "      <td>What can I say. I bought it in Dec. but havent...</td>\n",
       "      <td>01 01 2011</td>\n",
       "      <td>5 stars</td>\n",
       "      <td>Best Yet</td>\n",
       "      <td>https://www.sephora.com/product/tattoo-liner-P...</td>\n",
       "      <td>-8.330000e+17</td>\n",
       "    </tr>\n",
       "    <tr>\n",
       "      <th>2</th>\n",
       "      <td>Urban Decay</td>\n",
       "      <td>Cannonball Ultra Waterproof Mascara</td>\n",
       "      <td>Mascara</td>\n",
       "      <td>Pros: Goes on easy. Looks good. Waterproof. Co...</td>\n",
       "      <td>01 01 2012</td>\n",
       "      <td>1 star</td>\n",
       "      <td>Failed</td>\n",
       "      <td>https://www.sephora.com/product/cannonball-ult...</td>\n",
       "      <td>-3.340000e+18</td>\n",
       "    </tr>\n",
       "    <tr>\n",
       "      <th>3</th>\n",
       "      <td>Urban Decay</td>\n",
       "      <td>Eyeshadow Primer Potion - Original</td>\n",
       "      <td>Eye Primer</td>\n",
       "      <td>I can't believe how I had to suffer years of g...</td>\n",
       "      <td>01 01 2012</td>\n",
       "      <td>5 stars</td>\n",
       "      <td>Absolute Must Have</td>\n",
       "      <td>https://www.sephora.com/product/eyeshadow-prim...</td>\n",
       "      <td>1.080000e+17</td>\n",
       "    </tr>\n",
       "    <tr>\n",
       "      <th>4</th>\n",
       "      <td>Urban Decay</td>\n",
       "      <td>All Nighter Long-Lasting Makeup Setting Spray</td>\n",
       "      <td>Setting Spray</td>\n",
       "      <td>Worth it. Keeps makeup looking freshly applied...</td>\n",
       "      <td>01 01 2013</td>\n",
       "      <td>5 stars</td>\n",
       "      <td>Perfect setting spray</td>\n",
       "      <td>https://www.sephora.com/product/all-nighter-lo...</td>\n",
       "      <td>-9.210000e+18</td>\n",
       "    </tr>\n",
       "  </tbody>\n",
       "</table>\n",
       "</div>"
      ],
      "text/plain": [
       "         Brand                                   Product Name  \\\n",
       "0         Dior                    Diorshow Waterproof Mascara   \n",
       "1    Kat Von D                                   Tattoo Liner   \n",
       "2  Urban Decay            Cannonball Ultra Waterproof Mascara   \n",
       "3  Urban Decay             Eyeshadow Primer Potion - Original   \n",
       "4  Urban Decay  All Nighter Long-Lasting Makeup Setting Spray   \n",
       "\n",
       "      Product Type                                        Review Body  \\\n",
       "0          Mascara  This is my first Sephora product and was recom...   \n",
       "1  Liquid Eyeliner  What can I say. I bought it in Dec. but havent...   \n",
       "2          Mascara  Pros: Goes on easy. Looks good. Waterproof. Co...   \n",
       "3       Eye Primer  I can't believe how I had to suffer years of g...   \n",
       "4    Setting Spray  Worth it. Keeps makeup looking freshly applied...   \n",
       "\n",
       "  Review Date Review Stars           Review Title  \\\n",
       "0  01 01 2011      5 stars           Favorite! :)   \n",
       "1  01 01 2011      5 stars               Best Yet   \n",
       "2  01 01 2012       1 star                 Failed   \n",
       "3  01 01 2012      5 stars     Absolute Must Have   \n",
       "4  01 01 2013      5 stars  Perfect setting spray   \n",
       "\n",
       "                                                 URL       User ID  \n",
       "0  https://www.sephora.com/product/diorshow-water...  6.190000e+16  \n",
       "1  https://www.sephora.com/product/tattoo-liner-P... -8.330000e+17  \n",
       "2  https://www.sephora.com/product/cannonball-ult... -3.340000e+18  \n",
       "3  https://www.sephora.com/product/eyeshadow-prim...  1.080000e+17  \n",
       "4  https://www.sephora.com/product/all-nighter-lo... -9.210000e+18  "
      ]
     },
     "execution_count": 7,
     "metadata": {},
     "output_type": "execute_result"
    }
   ],
   "source": [
    "raw_reviews=pd.read_csv('all_reviews.csv')\n",
    "raw_reviews.head()"
   ]
  },
  {
   "cell_type": "markdown",
   "metadata": {
    "narrative": true
   },
   "source": [
    "---\n",
    "\n",
    "(This data is already a lot cleaner than you might see in practice, we want to start slow!)\n",
    "\n",
    "**Step 2:** Based on the data that's available, here are some concrete analysis goals (to start!) for this data set:\n",
    "\n",
    "1. compare ratings for products of the same type\n",
    "1. look at the trend in ratings over time for a specific product\n",
    "\n",
    "**Step 3:** So what do we need the clean data to look like for the above analysis? Let's sketch the header for our dream table:\n",
    "\n",
    "|product_type|brand|product_name|review_stars|review_date|\n",
    "|------------|-----|------------|------------|-----------|\n",
    "|str|str|str|int|date|\n",
    "\n",
    "You'll notice we've written our desired column names as lowercase strings with underscores instead of spaces. Lowercase is easier to type when programming, and spaces in column names prevent us from using some syntax to quickly refer to columns. \n",
    "\n",
    "**Step 4:** Now how do we get from the raw data to clean data? It helps to split the tasks into two parts: cleaning column names and cleaning entries.\n",
    "\n",
    "Let's first clean up the column names and then take a look at the entries to see what needs to be done there. \n",
    "\n",
    "### Task List 1: Column  names\n",
    "1. convert column names to lowercase and replace spaces with underscores\n",
    "1. drop unnecessary columns"
   ]
  },
  {
   "cell_type": "markdown",
   "metadata": {
    "problem": 6
   },
   "source": [
    "---\n",
    "\n",
    "## Problem 6 (4 pts)\n",
    "\n",
    "Use a list comprehension to create a list called `new_colnames` that takes the old column names (stored in `raw_reviews.columns`) and converts them to lowercase. Print `new_colnames`.\n",
    "\n",
    "*(**Hint:** You may find the string method [`.lower()`](https://www.w3schools.com/python/ref_string_lower.asp) helpful here)*\n",
    "\n",
    "---"
   ]
  },
  {
   "cell_type": "code",
   "execution_count": 8,
   "metadata": {
    "scrolled": true
   },
   "outputs": [
    {
     "name": "stdout",
     "output_type": "stream",
     "text": [
      "['brand', 'product name', 'product type', 'review body', 'review date', 'review stars', 'review title', 'url', 'user id']\n"
     ]
    }
   ],
   "source": [
    "new_colnames = [i.lower() for i in raw_reviews.columns]\n",
    "print(new_colnames)"
   ]
  },
  {
   "cell_type": "markdown",
   "metadata": {
    "problem": 7
   },
   "source": [
    "---\n",
    "\n",
    "## Problem 7 (8 pts)\n",
    "\n",
    "Use another list comprehension update the `new_colnames` list, replacing all spaces in the list entries with underscores. Print the updated `new_colnames` list.\n",
    "\n",
    "Copy `raw_reviews` to a new variable called `reviews` using the [`.copy()`](https://pandas.pydata.org/pandas-docs/stable/reference/api/pandas.DataFrame.copy.html) data frame method. Update the column names for the `reviews` data frame using your cleaned column names stored in `new_colnames`. Show the first few rows of `reviews`.\n",
    "\n",
    "*(**Hint:** you may find the string method [`.replace()`](https://www.w3schools.com/python/ref_string_replace.asp) helpful here)*\n",
    "\n",
    "---"
   ]
  },
  {
   "cell_type": "code",
   "execution_count": 9,
   "metadata": {},
   "outputs": [
    {
     "name": "stdout",
     "output_type": "stream",
     "text": [
      "['brand', 'product_name', 'product_type', 'review_body', 'review_date', 'review_stars', 'review_title', 'url', 'user_id']\n"
     ]
    },
    {
     "data": {
      "text/html": [
       "<div>\n",
       "<style scoped>\n",
       "    .dataframe tbody tr th:only-of-type {\n",
       "        vertical-align: middle;\n",
       "    }\n",
       "\n",
       "    .dataframe tbody tr th {\n",
       "        vertical-align: top;\n",
       "    }\n",
       "\n",
       "    .dataframe thead th {\n",
       "        text-align: right;\n",
       "    }\n",
       "</style>\n",
       "<table border=\"1\" class=\"dataframe\">\n",
       "  <thead>\n",
       "    <tr style=\"text-align: right;\">\n",
       "      <th></th>\n",
       "      <th>brand</th>\n",
       "      <th>product_name</th>\n",
       "      <th>product_type</th>\n",
       "      <th>review_body</th>\n",
       "      <th>review_date</th>\n",
       "      <th>review_stars</th>\n",
       "      <th>review_title</th>\n",
       "      <th>url</th>\n",
       "      <th>user_id</th>\n",
       "    </tr>\n",
       "  </thead>\n",
       "  <tbody>\n",
       "    <tr>\n",
       "      <th>0</th>\n",
       "      <td>Dior</td>\n",
       "      <td>Diorshow Waterproof Mascara</td>\n",
       "      <td>Mascara</td>\n",
       "      <td>This is my first Sephora product and was recom...</td>\n",
       "      <td>01 01 2011</td>\n",
       "      <td>5 stars</td>\n",
       "      <td>Favorite! :)</td>\n",
       "      <td>https://www.sephora.com/product/diorshow-water...</td>\n",
       "      <td>6.190000e+16</td>\n",
       "    </tr>\n",
       "    <tr>\n",
       "      <th>1</th>\n",
       "      <td>Kat Von D</td>\n",
       "      <td>Tattoo Liner</td>\n",
       "      <td>Liquid Eyeliner</td>\n",
       "      <td>What can I say. I bought it in Dec. but havent...</td>\n",
       "      <td>01 01 2011</td>\n",
       "      <td>5 stars</td>\n",
       "      <td>Best Yet</td>\n",
       "      <td>https://www.sephora.com/product/tattoo-liner-P...</td>\n",
       "      <td>-8.330000e+17</td>\n",
       "    </tr>\n",
       "    <tr>\n",
       "      <th>2</th>\n",
       "      <td>Urban Decay</td>\n",
       "      <td>Cannonball Ultra Waterproof Mascara</td>\n",
       "      <td>Mascara</td>\n",
       "      <td>Pros: Goes on easy. Looks good. Waterproof. Co...</td>\n",
       "      <td>01 01 2012</td>\n",
       "      <td>1 star</td>\n",
       "      <td>Failed</td>\n",
       "      <td>https://www.sephora.com/product/cannonball-ult...</td>\n",
       "      <td>-3.340000e+18</td>\n",
       "    </tr>\n",
       "    <tr>\n",
       "      <th>3</th>\n",
       "      <td>Urban Decay</td>\n",
       "      <td>Eyeshadow Primer Potion - Original</td>\n",
       "      <td>Eye Primer</td>\n",
       "      <td>I can't believe how I had to suffer years of g...</td>\n",
       "      <td>01 01 2012</td>\n",
       "      <td>5 stars</td>\n",
       "      <td>Absolute Must Have</td>\n",
       "      <td>https://www.sephora.com/product/eyeshadow-prim...</td>\n",
       "      <td>1.080000e+17</td>\n",
       "    </tr>\n",
       "    <tr>\n",
       "      <th>4</th>\n",
       "      <td>Urban Decay</td>\n",
       "      <td>All Nighter Long-Lasting Makeup Setting Spray</td>\n",
       "      <td>Setting Spray</td>\n",
       "      <td>Worth it. Keeps makeup looking freshly applied...</td>\n",
       "      <td>01 01 2013</td>\n",
       "      <td>5 stars</td>\n",
       "      <td>Perfect setting spray</td>\n",
       "      <td>https://www.sephora.com/product/all-nighter-lo...</td>\n",
       "      <td>-9.210000e+18</td>\n",
       "    </tr>\n",
       "  </tbody>\n",
       "</table>\n",
       "</div>"
      ],
      "text/plain": [
       "         brand                                   product_name  \\\n",
       "0         Dior                    Diorshow Waterproof Mascara   \n",
       "1    Kat Von D                                   Tattoo Liner   \n",
       "2  Urban Decay            Cannonball Ultra Waterproof Mascara   \n",
       "3  Urban Decay             Eyeshadow Primer Potion - Original   \n",
       "4  Urban Decay  All Nighter Long-Lasting Makeup Setting Spray   \n",
       "\n",
       "      product_type                                        review_body  \\\n",
       "0          Mascara  This is my first Sephora product and was recom...   \n",
       "1  Liquid Eyeliner  What can I say. I bought it in Dec. but havent...   \n",
       "2          Mascara  Pros: Goes on easy. Looks good. Waterproof. Co...   \n",
       "3       Eye Primer  I can't believe how I had to suffer years of g...   \n",
       "4    Setting Spray  Worth it. Keeps makeup looking freshly applied...   \n",
       "\n",
       "  review_date review_stars           review_title  \\\n",
       "0  01 01 2011      5 stars           Favorite! :)   \n",
       "1  01 01 2011      5 stars               Best Yet   \n",
       "2  01 01 2012       1 star                 Failed   \n",
       "3  01 01 2012      5 stars     Absolute Must Have   \n",
       "4  01 01 2013      5 stars  Perfect setting spray   \n",
       "\n",
       "                                                 url       user_id  \n",
       "0  https://www.sephora.com/product/diorshow-water...  6.190000e+16  \n",
       "1  https://www.sephora.com/product/tattoo-liner-P... -8.330000e+17  \n",
       "2  https://www.sephora.com/product/cannonball-ult... -3.340000e+18  \n",
       "3  https://www.sephora.com/product/eyeshadow-prim...  1.080000e+17  \n",
       "4  https://www.sephora.com/product/all-nighter-lo... -9.210000e+18  "
      ]
     },
     "execution_count": 9,
     "metadata": {},
     "output_type": "execute_result"
    }
   ],
   "source": [
    "reviews=raw_reviews.copy()\n",
    "reviews.columns=new_colnames\n",
    "new_colnames=[i.replace(' ','_') for i in new_colnames]\n",
    "print(new_colnames)\n",
    "reviews.columns=new_colnames\n",
    "reviews.head()"
   ]
  },
  {
   "cell_type": "markdown",
   "metadata": {
    "problem": 8
   },
   "source": [
    "---\n",
    "\n",
    "## Problem 8 (4 pts)\n",
    "\n",
    "Update the `reviews` data frame, keeping only the following columns:\n",
    "\n",
    "```\n",
    "product_type, brand, product_name, review_stars, review_date\n",
    "```\n",
    "\n",
    "Show the first few rows of the updated `reviews` data frame.\n",
    "\n",
    "---"
   ]
  },
  {
   "cell_type": "code",
   "execution_count": 10,
   "metadata": {},
   "outputs": [
    {
     "data": {
      "text/html": [
       "<div>\n",
       "<style scoped>\n",
       "    .dataframe tbody tr th:only-of-type {\n",
       "        vertical-align: middle;\n",
       "    }\n",
       "\n",
       "    .dataframe tbody tr th {\n",
       "        vertical-align: top;\n",
       "    }\n",
       "\n",
       "    .dataframe thead th {\n",
       "        text-align: right;\n",
       "    }\n",
       "</style>\n",
       "<table border=\"1\" class=\"dataframe\">\n",
       "  <thead>\n",
       "    <tr style=\"text-align: right;\">\n",
       "      <th></th>\n",
       "      <th>brand</th>\n",
       "      <th>product_name</th>\n",
       "      <th>product_type</th>\n",
       "      <th>review_date</th>\n",
       "      <th>review_stars</th>\n",
       "    </tr>\n",
       "  </thead>\n",
       "  <tbody>\n",
       "    <tr>\n",
       "      <th>0</th>\n",
       "      <td>Dior</td>\n",
       "      <td>Diorshow Waterproof Mascara</td>\n",
       "      <td>Mascara</td>\n",
       "      <td>01 01 2011</td>\n",
       "      <td>5 stars</td>\n",
       "    </tr>\n",
       "    <tr>\n",
       "      <th>1</th>\n",
       "      <td>Kat Von D</td>\n",
       "      <td>Tattoo Liner</td>\n",
       "      <td>Liquid Eyeliner</td>\n",
       "      <td>01 01 2011</td>\n",
       "      <td>5 stars</td>\n",
       "    </tr>\n",
       "    <tr>\n",
       "      <th>2</th>\n",
       "      <td>Urban Decay</td>\n",
       "      <td>Cannonball Ultra Waterproof Mascara</td>\n",
       "      <td>Mascara</td>\n",
       "      <td>01 01 2012</td>\n",
       "      <td>1 star</td>\n",
       "    </tr>\n",
       "    <tr>\n",
       "      <th>3</th>\n",
       "      <td>Urban Decay</td>\n",
       "      <td>Eyeshadow Primer Potion - Original</td>\n",
       "      <td>Eye Primer</td>\n",
       "      <td>01 01 2012</td>\n",
       "      <td>5 stars</td>\n",
       "    </tr>\n",
       "    <tr>\n",
       "      <th>4</th>\n",
       "      <td>Urban Decay</td>\n",
       "      <td>All Nighter Long-Lasting Makeup Setting Spray</td>\n",
       "      <td>Setting Spray</td>\n",
       "      <td>01 01 2013</td>\n",
       "      <td>5 stars</td>\n",
       "    </tr>\n",
       "  </tbody>\n",
       "</table>\n",
       "</div>"
      ],
      "text/plain": [
       "         brand                                   product_name  \\\n",
       "0         Dior                    Diorshow Waterproof Mascara   \n",
       "1    Kat Von D                                   Tattoo Liner   \n",
       "2  Urban Decay            Cannonball Ultra Waterproof Mascara   \n",
       "3  Urban Decay             Eyeshadow Primer Potion - Original   \n",
       "4  Urban Decay  All Nighter Long-Lasting Makeup Setting Spray   \n",
       "\n",
       "      product_type review_date review_stars  \n",
       "0          Mascara  01 01 2011      5 stars  \n",
       "1  Liquid Eyeliner  01 01 2011      5 stars  \n",
       "2          Mascara  01 01 2012       1 star  \n",
       "3       Eye Primer  01 01 2012      5 stars  \n",
       "4    Setting Spray  01 01 2013      5 stars  "
      ]
     },
     "execution_count": 10,
     "metadata": {},
     "output_type": "execute_result"
    }
   ],
   "source": [
    "reviews=reviews.drop(['review_body', 'url', 'user_id', 'review_title'], axis=1)\n",
    "reviews.head()"
   ]
  },
  {
   "cell_type": "markdown",
   "metadata": {
    "narrative": true
   },
   "source": [
    "---\n",
    "\n",
    "Now that our column names are in order, let's look at what kind of cleaning our entries need."
   ]
  },
  {
   "cell_type": "markdown",
   "metadata": {
    "problem": 9
   },
   "source": [
    "---\n",
    "## Problem 9 (6 pts)\n",
    "\n",
    "Write a for loop that will, for __each column__ in `reviews`,\n",
    "1. print the column name\n",
    "1. print the count of observations for each type in the given column\n",
    "1. print an empty line break (`\"\\n\"`) to make the results produced by the for loop more readible.\n",
    "\n",
    "*(**Hint:** For step 2 in the for loop, you may find the `pandas` column method [`.value_counts()`](https://pandas.pydata.org/pandas-docs/stable/reference/api/pandas.Series.value_counts.html?highlight=value_counts#pandas.Series.value_counts) helpful.)*\n",
    "\n",
    "---"
   ]
  },
  {
   "cell_type": "code",
   "execution_count": 11,
   "metadata": {},
   "outputs": [
    {
     "name": "stdout",
     "output_type": "stream",
     "text": [
      "brand\n",
      "Urban Decay                1033\n",
      "Marc Jacobs                 584\n",
      "Kat Von D                   567\n",
      "FENTY BEAUTY BY RIHANNA     529\n",
      "Stila                       418\n",
      "Dior                        407\n",
      "Too Faced                   402\n",
      "Tom Ford                     26\n",
      "Name: brand, dtype: int64\n",
      "\n",
      "\n",
      "product_name\n",
      "Highliner Gel Eye Crayon Eyeliner                584\n",
      "Tattoo Liner                                     567\n",
      "Flyliner Longwear Liquid Eyeliner                529\n",
      "Stay All Day® Waterproof Liquid Eye Liner        418\n",
      "Diorshow Waterproof Mascara                      407\n",
      "Hangover Replenishing Face Primer                402\n",
      "All Nighter Long-Lasting Makeup Setting Spray    391\n",
      "Cannonball Ultra Waterproof Mascara              323\n",
      "Eyeshadow Primer Potion - Original               319\n",
      "Emotionproof Mascara                              26\n",
      "Name: product_name, dtype: int64\n",
      "\n",
      "\n",
      "product_type\n",
      "Liquid Eyeliner    1514\n",
      "Mascara             752\n",
      "Gel Eyeliner        584\n",
      "Primer              401\n",
      "Setting Spray       391\n",
      "Eye Primer          319\n",
      "mascara               3\n",
      "primer                1\n",
      "MASCARA               1\n",
      "Name: product_type, dtype: int64\n",
      "\n",
      "\n",
      "review_date\n",
      "10 07 2018    18\n",
      "09 07 2018    14\n",
      "07 07 2018    13\n",
      "11 07 2018    12\n",
      "11 08 2018    12\n",
      "              ..\n",
      "06 04 2011     1\n",
      "27 02 2016     1\n",
      "07 11 2017     1\n",
      "12 06 2012     1\n",
      "26 04 2018     1\n",
      "Name: review_date, Length: 2086, dtype: int64\n",
      "\n",
      "\n",
      "review_stars\n",
      "5 stars    2319\n",
      "1 star      554\n",
      "4 stars     506\n",
      "3 stars     303\n",
      "2 stars     282\n",
      "???           2\n",
      "Name: review_stars, dtype: int64\n",
      "\n",
      "\n"
     ]
    }
   ],
   "source": [
    "for i in reviews:\n",
    "    print(i);\n",
    "    prints=reviews[i].value_counts()\n",
    "    print(prints)\n",
    "    print(\"\\n\")\n",
    "    "
   ]
  },
  {
   "cell_type": "markdown",
   "metadata": {
    "problem": 10
   },
   "source": [
    "---\n",
    "\n",
    "## Problem 10 (4 pts)\n",
    "\n",
    "Look at the results from the previous exercise for the `product_type` column. What do you notice about some of the entries that might be a problem for data analysis? What problem would this pose? \n",
    "\n",
    "---"
   ]
  },
  {
   "cell_type": "markdown",
   "metadata": {},
   "source": [
    "Although they refer to the same product, some entries contain all uppercase letters while others don't (ie. primer and Primer refer to the same product, but they won't be recognized by Python as being in the same product type catagory). This  would be a problem for data analysis purposes, as we would not get the correct analysis of the primer and mascara products, since some entries won't be included in the analysis. For example, if we want to calculate the number of primer entries, we wont get an innacurate number."
   ]
  },
  {
   "cell_type": "markdown",
   "metadata": {
    "narrative": true
   },
   "source": [
    "---\n",
    "\n",
    "Inspecting the entries, we should notice a few things that may be a problem for our analysis plan:\n",
    "* some entries in the `product_type` column are inconsistent (e.g. `Mascara` and `MASCARA`)\n",
    "* there appear to be some observations with missing values in the `review_stars` column (some observations have `???` in this column)\n",
    "* the dates don't really look like dates and may not be parsed correctly\n",
    "    \n",
    "Using these observations, we can write our second task list for cleaning the table entries.\n",
    "\n",
    "### Task List 2: Entries\n",
    "1. convert entries in the `product_type` column to lowercase, to get rid of duplicate categories arrising from case differences\n",
    "1. remove observations with missing values in the `review_stars` column\n",
    "1. convert the `review_dates` column to an actual `pandas` date object"
   ]
  },
  {
   "cell_type": "markdown",
   "metadata": {
    "problem": 11
   },
   "source": [
    "---\n",
    "\n",
    "## Problem 11 (4 pts)\n",
    "\n",
    "Update `reviews` by converting the `product_type` column to lowercase. Display the first few rows of the updated `reviews`.\n",
    "\n",
    "When updating a subset of a `pandas` dataframe, be sure to use the [`.loc[]`](https://pandas.pydata.org/pandas-docs/stable/reference/api/pandas.DataFrame.loc.html?highlight=loc#pandas.DataFrame.loc) data frame method on the left-hand side of the assignment statement. You should **not** get a warning labelled `SettingWithCopyWarning` if you've done this correctly.\n",
    "\n",
    "---"
   ]
  },
  {
   "cell_type": "code",
   "execution_count": 12,
   "metadata": {
    "scrolled": true
   },
   "outputs": [
    {
     "data": {
      "text/html": [
       "<div>\n",
       "<style scoped>\n",
       "    .dataframe tbody tr th:only-of-type {\n",
       "        vertical-align: middle;\n",
       "    }\n",
       "\n",
       "    .dataframe tbody tr th {\n",
       "        vertical-align: top;\n",
       "    }\n",
       "\n",
       "    .dataframe thead th {\n",
       "        text-align: right;\n",
       "    }\n",
       "</style>\n",
       "<table border=\"1\" class=\"dataframe\">\n",
       "  <thead>\n",
       "    <tr style=\"text-align: right;\">\n",
       "      <th></th>\n",
       "      <th>brand</th>\n",
       "      <th>product_name</th>\n",
       "      <th>product_type</th>\n",
       "      <th>review_date</th>\n",
       "      <th>review_stars</th>\n",
       "    </tr>\n",
       "  </thead>\n",
       "  <tbody>\n",
       "    <tr>\n",
       "      <th>0</th>\n",
       "      <td>Dior</td>\n",
       "      <td>Diorshow Waterproof Mascara</td>\n",
       "      <td>mascara</td>\n",
       "      <td>01 01 2011</td>\n",
       "      <td>5 stars</td>\n",
       "    </tr>\n",
       "    <tr>\n",
       "      <th>1</th>\n",
       "      <td>Kat Von D</td>\n",
       "      <td>Tattoo Liner</td>\n",
       "      <td>liquid eyeliner</td>\n",
       "      <td>01 01 2011</td>\n",
       "      <td>5 stars</td>\n",
       "    </tr>\n",
       "    <tr>\n",
       "      <th>2</th>\n",
       "      <td>Urban Decay</td>\n",
       "      <td>Cannonball Ultra Waterproof Mascara</td>\n",
       "      <td>mascara</td>\n",
       "      <td>01 01 2012</td>\n",
       "      <td>1 star</td>\n",
       "    </tr>\n",
       "    <tr>\n",
       "      <th>3</th>\n",
       "      <td>Urban Decay</td>\n",
       "      <td>Eyeshadow Primer Potion - Original</td>\n",
       "      <td>eye primer</td>\n",
       "      <td>01 01 2012</td>\n",
       "      <td>5 stars</td>\n",
       "    </tr>\n",
       "    <tr>\n",
       "      <th>4</th>\n",
       "      <td>Urban Decay</td>\n",
       "      <td>All Nighter Long-Lasting Makeup Setting Spray</td>\n",
       "      <td>setting spray</td>\n",
       "      <td>01 01 2013</td>\n",
       "      <td>5 stars</td>\n",
       "    </tr>\n",
       "  </tbody>\n",
       "</table>\n",
       "</div>"
      ],
      "text/plain": [
       "         brand                                   product_name  \\\n",
       "0         Dior                    Diorshow Waterproof Mascara   \n",
       "1    Kat Von D                                   Tattoo Liner   \n",
       "2  Urban Decay            Cannonball Ultra Waterproof Mascara   \n",
       "3  Urban Decay             Eyeshadow Primer Potion - Original   \n",
       "4  Urban Decay  All Nighter Long-Lasting Makeup Setting Spray   \n",
       "\n",
       "      product_type review_date review_stars  \n",
       "0          mascara  01 01 2011      5 stars  \n",
       "1  liquid eyeliner  01 01 2011      5 stars  \n",
       "2          mascara  01 01 2012       1 star  \n",
       "3       eye primer  01 01 2012      5 stars  \n",
       "4    setting spray  01 01 2013      5 stars  "
      ]
     },
     "execution_count": 12,
     "metadata": {},
     "output_type": "execute_result"
    }
   ],
   "source": [
    "for i in range(len(reviews.index)):\n",
    "    reviews.loc[i, 'product_type']=reviews.loc[i, 'product_type'].lower()\n",
    "reviews.head()\n"
   ]
  },
  {
   "cell_type": "markdown",
   "metadata": {
    "problem": 12
   },
   "source": [
    "---\n",
    "\n",
    "## Problem 12 (6 pts)\n",
    "\n",
    "Update `reviews` by removing any rows where the `review_stars` entry is `???`. Display the first few rows of the updated `reviews`.\n",
    "\n",
    "When updating an entire `pandas` dataframe, be sure to use the [`.copy()`](https://pandas.pydata.org/pandas-docs/stable/reference/api/pandas.DataFrame.copy.html?highlight=copy#pandas.DataFrame.copy) data frame method on the right-hand side of the assignment statement.\n",
    "\n",
    "*(**Hint:** the `pandas` [cheat sheet](https://pandas.pydata.org/Pandas_Cheat_Sheet.pdf) gives syntax for subsetting observations, which may be helpful here. We want to filter out any rows where the `reviews_stars` entry is `???`.)*\n",
    "\n",
    "*(**Confidence check:** Before filtering out rows with `???` in the `review_stars` column, `reviews` should have 3966 observations. After filtering, `reviews` should have 3964 observations. You can check the number of rows by printing the `.shape` atribute of a dataframe, i.e. using `reviews.shape` here.)*\n",
    "\n",
    "---"
   ]
  },
  {
   "cell_type": "code",
   "execution_count": 17,
   "metadata": {
    "scrolled": true
   },
   "outputs": [
    {
     "data": {
      "text/html": [
       "<div>\n",
       "<style scoped>\n",
       "    .dataframe tbody tr th:only-of-type {\n",
       "        vertical-align: middle;\n",
       "    }\n",
       "\n",
       "    .dataframe tbody tr th {\n",
       "        vertical-align: top;\n",
       "    }\n",
       "\n",
       "    .dataframe thead th {\n",
       "        text-align: right;\n",
       "    }\n",
       "</style>\n",
       "<table border=\"1\" class=\"dataframe\">\n",
       "  <thead>\n",
       "    <tr style=\"text-align: right;\">\n",
       "      <th></th>\n",
       "      <th>brand</th>\n",
       "      <th>product_name</th>\n",
       "      <th>product_type</th>\n",
       "      <th>review_date</th>\n",
       "      <th>review_stars</th>\n",
       "    </tr>\n",
       "  </thead>\n",
       "  <tbody>\n",
       "    <tr>\n",
       "      <th>0</th>\n",
       "      <td>Dior</td>\n",
       "      <td>Diorshow Waterproof Mascara</td>\n",
       "      <td>mascara</td>\n",
       "      <td>2011-01-01</td>\n",
       "      <td>5 stars</td>\n",
       "    </tr>\n",
       "    <tr>\n",
       "      <th>1</th>\n",
       "      <td>Kat Von D</td>\n",
       "      <td>Tattoo Liner</td>\n",
       "      <td>liquid eyeliner</td>\n",
       "      <td>2011-01-01</td>\n",
       "      <td>5 stars</td>\n",
       "    </tr>\n",
       "    <tr>\n",
       "      <th>2</th>\n",
       "      <td>Urban Decay</td>\n",
       "      <td>Cannonball Ultra Waterproof Mascara</td>\n",
       "      <td>mascara</td>\n",
       "      <td>2012-01-01</td>\n",
       "      <td>1 star</td>\n",
       "    </tr>\n",
       "    <tr>\n",
       "      <th>3</th>\n",
       "      <td>Urban Decay</td>\n",
       "      <td>Eyeshadow Primer Potion - Original</td>\n",
       "      <td>eye primer</td>\n",
       "      <td>2012-01-01</td>\n",
       "      <td>5 stars</td>\n",
       "    </tr>\n",
       "    <tr>\n",
       "      <th>4</th>\n",
       "      <td>Urban Decay</td>\n",
       "      <td>All Nighter Long-Lasting Makeup Setting Spray</td>\n",
       "      <td>setting spray</td>\n",
       "      <td>2013-01-01</td>\n",
       "      <td>5 stars</td>\n",
       "    </tr>\n",
       "  </tbody>\n",
       "</table>\n",
       "</div>"
      ],
      "text/plain": [
       "         brand                                   product_name  \\\n",
       "0         Dior                    Diorshow Waterproof Mascara   \n",
       "1    Kat Von D                                   Tattoo Liner   \n",
       "2  Urban Decay            Cannonball Ultra Waterproof Mascara   \n",
       "3  Urban Decay             Eyeshadow Primer Potion - Original   \n",
       "4  Urban Decay  All Nighter Long-Lasting Makeup Setting Spray   \n",
       "\n",
       "      product_type review_date review_stars  \n",
       "0          mascara  2011-01-01      5 stars  \n",
       "1  liquid eyeliner  2011-01-01      5 stars  \n",
       "2          mascara  2012-01-01       1 star  \n",
       "3       eye primer  2012-01-01      5 stars  \n",
       "4    setting spray  2013-01-01      5 stars  "
      ]
     },
     "execution_count": 17,
     "metadata": {},
     "output_type": "execute_result"
    }
   ],
   "source": [
    "final_reviews=reviews.copy()\n",
    "final_reviews=final_reviews[final_reviews.review_stars !='???']\n",
    "reviews=final_reviews\n",
    "reviews.head()"
   ]
  },
  {
   "cell_type": "markdown",
   "metadata": {
    "narrative": true
   },
   "source": [
    "---\n",
    "\n",
    "Note that often missing values will appear as null values (as opposed to something like `???`). Null values depend on the underlying data type: `NaN` in numeric arrays, `None` or `NaN` in object arrays, `NaT` in datetime arrays. The functions [`isnull()`](https://pandas.pydata.org/pandas-docs/stable/reference/api/pandas.isnull.html) and [`notnull()`](https://pandas.pydata.org/pandas-docs/stable/reference/api/pandas.DataFrame.notnull.html?highlight=notnull#pandas.DataFrame.notnull) are helpful for filtering in these cases.  You should **not** use logical operators like `==` or `!=` to check for null values, as such expressions often have [unintended consequences](https://towardsdatascience.com/navigating-the-hell-of-nans-in-python-71b12558895b).\n",
    "\n",
    "That said, it is worth asking yourself why you're removing rows with missing values and if it might affect some downstream analysis. For example, if we were interested in the *number* of reviews per product, removing products with missing ratings would artificially reduce these sample sizes.\n",
    "\n",
    "Now, we just have to tackle the dates and we will have accomplished all of our data cleaning tasks!\n",
    "\n",
    "Let's take a closer look at the dates, as they currently appear in `reviews`:"
   ]
  },
  {
   "cell_type": "code",
   "execution_count": 14,
   "metadata": {
    "narrative": true
   },
   "outputs": [
    {
     "data": {
      "text/plain": [
       "str"
      ]
     },
     "execution_count": 14,
     "metadata": {},
     "output_type": "execute_result"
    }
   ],
   "source": [
    "type(reviews.review_date[0])"
   ]
  },
  {
   "cell_type": "markdown",
   "metadata": {
    "narrative": true
   },
   "source": [
    "The review dates are currently stored as strings in `reviews`. Python does not inately know a special date string from any other string (functionally, it thinks of \"2020-09-07\" and \"hello\" as the same type of data). Information about how dates should be read, ordered, and how to perform calculations with dates is not encoded when a date is stored as a string.\n",
    "\n",
    "Instead, we must represent dates as specific \"date\" types in Python. To do this, we have to tell Python how to parse the date string to create a special date object. "
   ]
  },
  {
   "cell_type": "markdown",
   "metadata": {
    "problem": 13
   },
   "source": [
    "---\n",
    "\n",
    "## Problem 13 (6 pts)\n",
    "\n",
    "Update `reviews` by overwriting the exisiting string entries in the `review_dates` column with correctly parsed date entries. Use the `pandas` [`to_datetime()`](https://pandas.pydata.org/pandas-docs/stable/reference/api/pandas.to_datetime.html) function to convert the dates in the existing `review_date` column to ones that are correctly parsed using the `format` argument.\n",
    "\n",
    "Display the first few rows of the updated `reviews`. Print the data type of the first entry of the updated `review_date` column.\n",
    "\n",
    "*(**Hint:** The original dates in the `review_date` column are of the form `dd mm yyyy`. In writing the `format` string that parses this formatting, you may find it helpful to consult [this chart](https://docs.python.org/3/library/datetime.html#strftime-and-strptime-format-codes) of date and time codes recognized by `format`. For example, `format = \"%b %d, %y\"` would capture dates like `Jul 15, 91`.)*\n",
    "\n",
    "---"
   ]
  },
  {
   "cell_type": "code",
   "execution_count": 15,
   "metadata": {},
   "outputs": [
    {
     "data": {
      "text/html": [
       "<div>\n",
       "<style scoped>\n",
       "    .dataframe tbody tr th:only-of-type {\n",
       "        vertical-align: middle;\n",
       "    }\n",
       "\n",
       "    .dataframe tbody tr th {\n",
       "        vertical-align: top;\n",
       "    }\n",
       "\n",
       "    .dataframe thead th {\n",
       "        text-align: right;\n",
       "    }\n",
       "</style>\n",
       "<table border=\"1\" class=\"dataframe\">\n",
       "  <thead>\n",
       "    <tr style=\"text-align: right;\">\n",
       "      <th></th>\n",
       "      <th>brand</th>\n",
       "      <th>product_name</th>\n",
       "      <th>product_type</th>\n",
       "      <th>review_date</th>\n",
       "      <th>review_stars</th>\n",
       "    </tr>\n",
       "  </thead>\n",
       "  <tbody>\n",
       "    <tr>\n",
       "      <th>0</th>\n",
       "      <td>Dior</td>\n",
       "      <td>Diorshow Waterproof Mascara</td>\n",
       "      <td>mascara</td>\n",
       "      <td>2011-01-01</td>\n",
       "      <td>5 stars</td>\n",
       "    </tr>\n",
       "    <tr>\n",
       "      <th>1</th>\n",
       "      <td>Kat Von D</td>\n",
       "      <td>Tattoo Liner</td>\n",
       "      <td>liquid eyeliner</td>\n",
       "      <td>2011-01-01</td>\n",
       "      <td>5 stars</td>\n",
       "    </tr>\n",
       "    <tr>\n",
       "      <th>2</th>\n",
       "      <td>Urban Decay</td>\n",
       "      <td>Cannonball Ultra Waterproof Mascara</td>\n",
       "      <td>mascara</td>\n",
       "      <td>2012-01-01</td>\n",
       "      <td>1 star</td>\n",
       "    </tr>\n",
       "    <tr>\n",
       "      <th>3</th>\n",
       "      <td>Urban Decay</td>\n",
       "      <td>Eyeshadow Primer Potion - Original</td>\n",
       "      <td>eye primer</td>\n",
       "      <td>2012-01-01</td>\n",
       "      <td>5 stars</td>\n",
       "    </tr>\n",
       "    <tr>\n",
       "      <th>4</th>\n",
       "      <td>Urban Decay</td>\n",
       "      <td>All Nighter Long-Lasting Makeup Setting Spray</td>\n",
       "      <td>setting spray</td>\n",
       "      <td>2013-01-01</td>\n",
       "      <td>5 stars</td>\n",
       "    </tr>\n",
       "  </tbody>\n",
       "</table>\n",
       "</div>"
      ],
      "text/plain": [
       "         brand                                   product_name  \\\n",
       "0         Dior                    Diorshow Waterproof Mascara   \n",
       "1    Kat Von D                                   Tattoo Liner   \n",
       "2  Urban Decay            Cannonball Ultra Waterproof Mascara   \n",
       "3  Urban Decay             Eyeshadow Primer Potion - Original   \n",
       "4  Urban Decay  All Nighter Long-Lasting Makeup Setting Spray   \n",
       "\n",
       "      product_type review_date review_stars  \n",
       "0          mascara  2011-01-01      5 stars  \n",
       "1  liquid eyeliner  2011-01-01      5 stars  \n",
       "2          mascara  2012-01-01       1 star  \n",
       "3       eye primer  2012-01-01      5 stars  \n",
       "4    setting spray  2013-01-01      5 stars  "
      ]
     },
     "metadata": {},
     "output_type": "display_data"
    },
    {
     "name": "stdout",
     "output_type": "stream",
     "text": [
      "<class 'pandas._libs.tslibs.timestamps.Timestamp'>\n"
     ]
    }
   ],
   "source": [
    "reviews['review_date']=pd.to_datetime(reviews['review_date'],format=\"%d %m %Y\")\n",
    "display(reviews.head())\n",
    "print(type(reviews.review_date[0]))\n"
   ]
  },
  {
   "cell_type": "markdown",
   "metadata": {
    "narrative": true
   },
   "source": [
    "---\n",
    "\n",
    "That's it! We've accomplished our data cleaning task list. Of course, as you begin to work with your data, you may notice other idiosyncrasies that require further cleaning.\n",
    "\n",
    "For instance, the entries in the `review_stars` column are still strings, but in order to perform certain kinds of analyses (e.g. get the mean star rating per item), we really want this data to be stored as a numeric type... How might one use Python to extract the numeric value of the rating? More on this later, when we start learning about [regular expressions](https://www.programiz.com/python-programming/regex)... "
   ]
  }
 ],
 "metadata": {
  "kernelspec": {
   "display_name": "Python 3",
   "language": "python",
   "name": "python3"
  },
  "language_info": {
   "codemirror_mode": {
    "name": "ipython",
    "version": 3
   },
   "file_extension": ".py",
   "mimetype": "text/x-python",
   "name": "python",
   "nbconvert_exporter": "python",
   "pygments_lexer": "ipython3",
   "version": "3.8.3"
  }
 },
 "nbformat": 4,
 "nbformat_minor": 4
}
