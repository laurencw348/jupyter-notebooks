{
 "cells": [
  {
   "cell_type": "markdown",
   "metadata": {
    "id": "InvAbrtESOZ9"
   },
   "source": [
    "# INFO 2950 Discussion Section and Homework 2 Solutions"
   ]
  },
  {
   "cell_type": "markdown",
   "metadata": {
    "id": "LwTtHiAHSOZ-"
   },
   "source": [
    "# In Section"
   ]
  },
  {
   "cell_type": "markdown",
   "metadata": {
    "id": "21Wj0J0LSOZ_"
   },
   "source": [
    "## Part 1: Getting Data\n",
    "For your project you will need to collect data. There are many useful datasets freely available; do not try to reinvent the wheel!\n",
    "\n",
    "First and foremost: Cornell Library's [list of databases](https://newcatalog.library.cornell.edu/databases) has a collection of data on likely any subject you are interested. It also has subscriptions available for students to access otherwise unavailable material. There is also [a list of dataset ideas](https://docs.google.com/document/d/1P4rJHm058xezN-Lafcwi2MFSJcJzlPgD6pkigKEvuFc/) in the INFO 2950 Student Handbook.\n",
    "\n",
    "You should make an attempt to find pre-collected data relevant to your interests. If this fails, many companies provide open-access to their data via [API](https://www.howtogeek.com/343877/what-is-an-api/)s.\n",
    "\n",
    "If that fails then we can turn to web-scraping. Keep in mind, many companies attempt to prevent web-scraping. If you encounter this issue, it will likely be difficult to succeed and you should consider looking for a different data source, and/or reframing your research question(s)."
   ]
  },
  {
   "cell_type": "markdown",
   "metadata": {
    "id": "2TDfvMq0SOaA",
    "narrative": true
   },
   "source": [
    "The following cell installs two Python packages useful for web scraping. (If you already have them installed, the code will produce a message that \"Requirement already satisfied\".) **If either package is actually installed by the first code cell below, you may need to close Jupyter and restart it in order to actually load the libraries in the second code cell below.**"
   ]
  },
  {
   "cell_type": "code",
   "execution_count": 78,
   "metadata": {
    "colab": {
     "base_uri": "https://localhost:8080/",
     "height": 51
    },
    "executionInfo": {
     "elapsed": 681,
     "status": "ok",
     "timestamp": 1601477102079,
     "user": {
      "displayName": "Jennifer Russell",
      "photoUrl": "https://lh3.googleusercontent.com/a-/AOh14GjWif9GxQiyGp_zJ7huBTbL5tomDNaNwNqUjlyf=s64",
      "userId": "17995744332385372764"
     },
     "user_tz": 240
    },
    "id": "P0FyKO4-SOaA",
    "outputId": "ba0d7135-e4cd-4456-d595-7712833c46f5"
   },
   "outputs": [],
   "source": [
    "# install requests and beautiful soup \n",
    "#import sys\n",
    "#!conda install --yes --prefix {sys.prefix} requests\n",
    "#!conda install --yes --prefix {sys.prefix} bs4"
   ]
  },
  {
   "cell_type": "markdown",
   "metadata": {
    "id": "gsXddxM0SOaE"
   },
   "source": [
    "Now let's load all of the packages we will need for this assignment:"
   ]
  },
  {
   "cell_type": "code",
   "execution_count": 79,
   "metadata": {
    "id": "m--6G0zoSOaE"
   },
   "outputs": [],
   "source": [
    "import requests #package for http requests\n",
    "import bs4 # package for html parsing\n",
    "import numpy as np\n",
    "import matplotlib.pyplot as plt\n",
    "import pandas as pd"
   ]
  },
  {
   "cell_type": "markdown",
   "metadata": {
    "id": "EukGEfyNSOaG"
   },
   "source": [
    "Let's illustrate an example of web-scraping by downloading the [Wikipedia article for Web Scraping](https://en.wikipedia.org/wiki/Web_scraping) using the Python [requests](https://requests.readthedocs.io/en/master/) package."
   ]
  },
  {
   "cell_type": "code",
   "execution_count": 80,
   "metadata": {
    "id": "iHK8sZ2HSOaH",
    "outputId": "c398951f-6bf8-426c-ecc2-f7a12711bb99"
   },
   "outputs": [
    {
     "data": {
      "text/plain": [
       "<Response [200]>"
      ]
     },
     "execution_count": 80,
     "metadata": {},
     "output_type": "execute_result"
    }
   ],
   "source": [
    "wikipedia_web_scraping = 'https://en.wikipedia.org/wiki/Web_scraping'\n",
    "requests.get(wikipedia_web_scraping)"
   ]
  },
  {
   "cell_type": "markdown",
   "metadata": {
    "id": "nHXXs6QTSOaJ"
   },
   "source": [
    "A response of `<Response [200]>` indicates that we have received what we have asked for. If there is another number (such as `404`), then there was likely an error. A list of http response codes can be found [here](https://en.wikipedia.org/wiki/List_of_HTTP_status_codes). "
   ]
  },
  {
   "cell_type": "markdown",
   "metadata": {
    "id": "5bR3aQzuSOaK"
   },
   "source": [
    "The response Python object contains all the data the server would normally send a browser, including the contents of the website. Here we are interested in the data containted within the text attribute:"
   ]
  },
  {
   "cell_type": "code",
   "execution_count": 81,
   "metadata": {
    "id": "ZPZ6y6nJSOaK",
    "outputId": "2ab2da9f-1f20-467a-c0ea-69e40d0b1240"
   },
   "outputs": [
    {
     "data": {
      "text/plain": [
       "'<!DOCTYPE html>\\n<html class=\"client-nojs\" lang=\"en\" dir=\"ltr\">\\n<head>\\n<meta charset=\"UTF-8\"/>\\n<title>Web scraping - Wikipedia</title>\\n<script>document.documentElement.className=\"client-js\";RLCONF={\"wgBreakFrames\":!1,\"wgSeparatorTransformTable\":[\"\",\"\"],\"wgDigitTransformTable\":[\"\",\"\"],\"wgDefaultDateFormat\":\"dmy\",\"wgMonthNames\":[\"\",\"January\",\"February\",\"March\",\"April\",\"May\",\"June\",\"July\",\"August\",\"September\",\"October\",\"November\",\"December\"],\"wgRequestId\":\"YDY3DQpAEKcAAeAZi@8AAADR\",\"wgCSPNonce\":!1,\"wgCanonicalNamespace\":\"\",\"wgCanonicalSpecialPageName\":!1,\"wgNamespaceNumber\":0,\"wgPageName\":\"Web_scraping\",\"wgTitle\":\"Web scraping\",\"wgCurRevisionId\":1007687861,\"wgRevisionId\":1007687861,\"wgArticleId\":2696619,\"wgIsArticle\":!0,\"wgIsRedirect\":!1,\"wgAction\":\"view\",\"wgUserName\":null,\"wgUserGroups\":[\"*\"],\"wgCategories\":[\"CS1 Danish-language sources (da)\",\"CS1 French-language sources (fr)\",\"Articles with short description\",\"Short description matches Wikidata\",\"Articles needing additional references from June 2017\",\"All articles needing additional references\",\"Articles needing additional references from October 2018\",\\n\"Articles with limited geographic scope from October 2015\",\"Pages in non-existent country centric categories\",\"Web scraping\"],\"wgPageContentLanguage\":\"en\",\"wgPageContentModel\":\"wikitext\",\"wgRelevantPageName\":\"Web_scraping\",\"wgRelevantArticleId\":2696619,\"wgIsProbablyEditable\":!0,\"wgRelevantPageIsProbablyEditable\":!0,\"wgRestrictionEdit\":[],\"wgRestrictionMove\":[],\"wgMediaViewerOnClick\":!0,\"wgMediaViewerEnabledByDefault\":!0,\"wgPopupsReferencePreviews\":!1,\"wgPopupsConflictsWithNavPopupGadget\":!1,\"wgPopupsConflictsWithRefTooltipsGadget\":!0,\"wgVisualEditor\":{\"pageLanguageCode\":\"en\",\"pageLanguageDir\":\"ltr\",\"pageVariantFallbacks\":\"en\"},\"wgMFDisplayWikibaseDescriptions\":{\"search\":!0,\"nearby\":!0,\"watchlist\":!0,\"tagline\":!1},\"wgWMESchemaEditAttemptStepOversample\":!1,\"wgULSCurrentAutonym\":\"English\",\"wgNoticeProject\":\"wikipedia\",\"wgCentralAuthMobileDomain\":!1,\"wgEditSubmitButtonLabe'"
      ]
     },
     "execution_count": 81,
     "metadata": {},
     "output_type": "execute_result"
    }
   ],
   "source": [
    "wikiResponse = requests.get(wikipedia_web_scraping)\n",
    "wikiResponse.text[:2000]"
   ]
  },
  {
   "cell_type": "markdown",
   "metadata": {
    "id": "utTXj5-fSOaN"
   },
   "source": [
    "This data is not exactly what we were looking for. It includes raw HTML, which is meant to be read by computers; we want to parse out human-readible text. For this, we use the Python package [Beautiful Soup](https://www.crummy.com/software/BeautifulSoup/)."
   ]
  },
  {
   "cell_type": "code",
   "execution_count": 82,
   "metadata": {
    "id": "XMs5F9ikSOaN",
    "outputId": "95be273e-d93c-4491-cd24-1aee7a6f1063",
    "scrolled": true
   },
   "outputs": [
    {
     "name": "stdout",
     "output_type": "stream",
     "text": [
      "\n",
      "\n",
      "\n",
      "\n",
      "Web scraping - Wikipedia\n",
      "\n",
      "\n",
      "\n",
      "\n",
      "\n",
      "\n",
      "\n",
      "\n",
      "\n",
      "\n",
      "\n",
      "\n",
      "\n",
      "\n",
      "\n",
      "\n",
      "\n",
      "\n",
      "\n",
      "\n",
      "\n",
      "\n",
      "\n",
      "\n",
      "\n",
      "\n",
      "\n",
      "\n",
      "\n",
      "\n",
      "Web scraping\n",
      "\n",
      "From Wikipedia, the free encyclopedia\n",
      "\n",
      "\n",
      "\n",
      "Jump to navigation\n",
      "Jump to search\n",
      "Data scraping used for extracting data from websites\n",
      "This article needs additional citations for verification. Please help improve this article by adding citations to reliable sources. Unsourced material may be challenged and removed.Find sources: \"Web scraping\" – news · newspapers · books · scholar · JSTOR (June 2017) (Learn how and when to remove this template message)\n",
      "For broader coverage of this topic, see Data scraping.\n",
      "Web scraping, web harvesting, or web data extraction is data scraping used for extracting data from websites. The web scraping software may directly access the World Wide Web using the Hypertext Transfer Protocol or a web browser. While web scraping can be done manually by a software user, the term typically refers to automated processes implemented using a bot or web crawler. It is a form of copying in which specific data is gathered and copied from the web, typically into a central local database or spreadsheet, for later retrieval or analysis.\n",
      "Web scraping a web page involves fetching it and extracting from it. Fetching is the downloading of a page (which a browser does when a user views a page). Therefore, web crawling is a main component of web scraping, to fetch pages for later processing. Once fetched, then extraction can take place. The content of a page may be parsed, searched, reformatted, its data copied into a spreadsheet, and so on. Web scrapers typically take something out of a page, to make use of it for another purpose somewhere else. An example would be to find and copy names and telephone numbers, or companies and their URLs, to a list (contact scraping).\n",
      "Web scraping is used for contact scraping, and as a component of applications used for web indexing, web mining and data mining, online price change monitoring and price comparison, product review scraping (to watch the competition), gathering real estate listings, weather data monitoring, website change detection, research, tracking online presence and reputation, web mashup and, web data integration.\n",
      "Web pages are built using text-based mark-up languages (HTML and XHTML), and frequently contain a wealth of useful data in text form. However, most web pages are designed for human end-users and not for ease of automated use. As a result, specialized tools and software have been developed to facilitate the scraping of web pages.\n",
      "Newer forms of web scraping involve listening to data feeds from web servers.  For example, JSON is commonly used as a transport storage mechanism between the client and the web server.\n",
      "There are methods that some websites use to prevent web scraping, such as detecting and disallowing bots from crawling (viewing) their pages. In response, there are web scraping systems that rely on using techniques in  DOM parsing, computer vision and natural language processing to simulate human browsing to enable gathering web page content for offline parsing.\n",
      "\n",
      "Contents\n",
      "\n",
      "1 History\n",
      "2 Techniques\n",
      "\n",
      "2.1 Human copy-and-paste\n",
      "2.2 Text pattern matching\n",
      "2.3 HTTP programming\n",
      "2.4 HTML parsing\n",
      "2.5 DOM parsing\n",
      "2.6 Vertical aggregation\n",
      "2.7 Semantic annotation recognizing\n",
      "2.8 Computer vision web-page analysis\n",
      "\n",
      "\n",
      "3 Software\n",
      "4 Legal issues\n",
      "\n",
      "4.1 United States\n",
      "4.2 The EU\n",
      "4.3 Australia\n",
      "4.4 India\n",
      "\n",
      "\n",
      "5 Methods to prevent web scraping\n",
      "6 See also\n",
      "7 References\n",
      "\n",
      "\n",
      "History[edit]\n",
      "This section does not cite any sources. Please help improve this section by adding citations to reliable sources. Unsourced material may be challenged and removed. (October 2018) (Learn how and when to remove this template message)\n",
      "The history of the web scraping dates back nearly to the time when the Internet was born.\n",
      "\n",
      "After the birth of World Wide Web in 1989, the first web robot,[1] World Wide Web Wanderer, was created in June 1993, which was intended only to measure the size of the web.\n",
      "In December 1993, the first crawler-based web search engine, JumpStation, was launched. As there were not so many websites available on the web, search engines at that time used to rely on their human website administrators to collect and edit the links into a particular format. In comparison, JumpStation brought a new leap, being the first WWW search engine that relied on a web robot.\n",
      "In 2000, the first Web API and API crawler came. API stands for Application Programming Interface. It is an interface that makes it much easier to develop a program by providing the building blocks. In 2000, Salesforce and eBay launched their own API, with which programmers were enabled to access and download some of the data available to the public. Since then, many websites offer web APIs for people to access their public database.\n",
      "Techniques[edit]\n",
      "Web scraping is the process of automatically mining data or collecting information from the World Wide Web. It is a field with active developments sharing a common goal with the semantic web vision, an ambitious initiative that still requires breakthroughs in text processing, semantic understanding, artificial intelligence and human-computer interactions. Current web scraping solutions range from the ad-hoc, requiring human effort, to fully automated systems that are able to convert entire web sites into structured information, with limitations.\n",
      "\n",
      "Human copy-and-paste[edit]\n",
      "The simplest form of web scraping is manually copying and pasting data from a web page into a text file or spreadsheet. Sometimes even the best web-scraping technology cannot replace a human's manual examination and copy-and-paste, and sometimes this may be the only workable solution when the websites for scraping explicitly set up barriers to prevent machine automation.\n",
      "\n",
      "Text pattern matching[edit]\n",
      "A simple yet powerful approach to extract information from web pages can be based on the UNIX grep command or regular expression-matching facilities of programming languages (for instance Perl or Python).\n",
      "\n",
      "HTTP programming[edit]\n",
      "Static and dynamic web pages can be retrieved by posting HTTP requests to the remote web server using socket programming.\n",
      "\n",
      "HTML parsing[edit]\n",
      "Many websites have large collections of pages generated dynamically from an underlying structured source like a database. Data of the same category are typically encoded into similar pages by a common script or template. In data mining, a program that detects such templates in a particular information source, extracts its content and translates it into a relational form, is called a wrapper. Wrapper generation algorithms assume that input pages of a wrapper induction system conform to a common template and that they can be easily identified in terms of a URL common scheme.[2] Moreover, some semi-structured data query languages, such as XQuery and the HTQL, can be used to parse HTML pages and to retrieve and transform page content.\n",
      "\n",
      "DOM parsing[edit]\n",
      "Further information: Document Object Model\n",
      "By embedding a full-fledged web browser, such as the Internet Explorer or the Mozilla browser control, programs can retrieve the dynamic content generated by client-side scripts. These browser controls also parse web pages into a DOM tree, based on which programs can retrieve parts of the pages. Languages such as Xpath can be used to parse the resulting DOM tree.\n",
      "\n",
      "Vertical aggregation[edit]\n",
      "There are several companies that have developed vertical specific harvesting platforms. These platforms create and monitor a multitude of \"bots\" for specific verticals with no \"man in the loop\" (no direct human involvement), and no work related to a specific target site. The preparation involves establishing the knowledge base for the entire vertical and then the platform creates the bots automatically. The platform's robustness is measured by the quality of the information it retrieves (usually number of fields) and its scalability (how quick it can scale up to hundreds or thousands of sites). This scalability is mostly used to target the Long Tail of sites that common aggregators find complicated or too labor-intensive to harvest content from.\n",
      "\n",
      "Semantic annotation recognizing[edit]\n",
      "The pages being scraped may embrace metadata or semantic markups and annotations, which can be used to locate specific data snippets. If the annotations are embedded in the pages, as Microformat does, this technique can be viewed as a special case of DOM parsing. In another case, the annotations, organized into a semantic layer,[3] are stored and managed separately from the web pages, so the scrapers can retrieve data schema and instructions from this layer before scraping the pages.\n",
      "\n",
      "Computer vision web-page analysis[edit]\n",
      "There are efforts using machine learning and computer vision that attempt to identify and extract information from web pages by interpreting pages visually as a human being might.[4]\n",
      "\n",
      "Software[edit]\n",
      "There are many software tools available that can be used to customize web-scraping solutions. This software may attempt to automatically recognize the data structure of a page or provide a recording interface that removes the necessity to manually write web-scraping code, or some scripting functions that can be used to extract and transform content, and database interfaces that can store the scraped data in local databases. Some web scraping software can also be used to extract data from an API directly.\n",
      "\n",
      "Legal issues[edit]\n",
      "The examples and perspective in this section deal primarily with the United States and do not represent a worldwide view of the subject. You may improve this section, discuss the issue on the talk page, or create a new section, as appropriate. (October 2015) (Learn how and when to remove this template message)\n",
      "The legality of web scraping varies across the world. In general, web scraping may be against the terms of use of some websites, but the enforceability of these terms is unclear.[5]\n",
      "\n",
      "United States[edit]\n",
      "In the United States, website owners can use three major legal claims to prevent undesired web scraping: (1) copyright infringement (compilation), (2) violation of the Computer Fraud and Abuse Act (\"CFAA\"), and (3) trespass to chattel.[6] However, the effectiveness of these claims relies upon meeting various criteria, and the case law is still evolving. For example, with regard to copyright, while outright duplication of original expression will in many cases be illegal, in the United States the courts ruled in Feist Publications v. Rural Telephone Service that duplication of facts is allowable.\n",
      "U.S. courts have acknowledged that users of \"scrapers\" or \"robots\" may be held liable for committing trespass to chattels,[7][8] which involves a computer system itself being considered personal property upon which the user of a scraper is trespassing. The best known of these cases, eBay v. Bidder's Edge, resulted in an injunction ordering Bidder's Edge to stop accessing, collecting, and indexing auctions from the eBay web site. This case involved automatic placing of bids, known as auction sniping. However, in order to succeed on a claim of trespass to chattels, the plaintiff must demonstrate that the defendant intentionally and without authorization interfered with the plaintiff's possessory interest in the computer system and that the defendant's unauthorized use caused damage to the plaintiff. Not all cases of web spidering brought before the courts have been considered trespass to chattels.[9]\n",
      "One of the first major tests of screen scraping involved American Airlines (AA), and a firm called FareChase.[10] AA successfully obtained an injunction from a Texas trial court, stopping FareChase from selling software that enables users to compare online fares if the software also searches AA's website. The airline argued that FareChase's websearch software trespassed on AA's servers when it collected the publicly available data. FareChase filed an appeal in March 2003. By June, FareChase and AA agreed to settle and the appeal was dropped.[11]\n",
      "Southwest Airlines has also challenged screen-scraping practices, and has involved both FareChase and another firm, Outtask, in a legal claim. Southwest Airlines charged that the screen-scraping is Illegal since it is an example of \"Computer Fraud and Abuse\" and has led to \"Damage and Loss\" and \"Unauthorized Access\" of Southwest's site. It also constitutes \"Interference with Business Relations\", \"Trespass\", and \"Harmful Access by Computer\". They also claimed that screen-scraping constitutes what is legally known as \"Misappropriation and Unjust Enrichment\", as well as being a breach of the web site's user agreement. Outtask denied all these claims, claiming that the prevailing law, in this case, should be US Copyright law and that under copyright, the pieces of information being scraped would not be subject to copyright protection. Although the cases were never resolved in the Supreme Court of the United States, FareChase was eventually shuttered by parent company Yahoo!, and Outtask was purchased by travel expense company Concur.[12]\n",
      "In 2012, a startup called 3Taps scraped classified housing ads from Craigslist. Craigslist sent 3Taps a cease-and-desist letter and blocked their IP addresses and later sued, in Craigslist v. 3Taps. The court held that the cease-and-desist letter and IP blocking was sufficient for Craigslist to properly claim that 3Taps had violated the Computer Fraud and Abuse Act.\n",
      "Although these are early scraping decisions, and the theories of liability are not uniform, it is difficult to ignore a pattern emerging that the courts are prepared to protect proprietary content on commercial sites from uses which are undesirable to the owners of such sites. However, the degree of protection for such content is not settled and will depend on the type of access made by the scraper, the amount of information accessed and copied, the degree to which the access adversely affects the site owner's system and the types and manner of prohibitions on such conduct.[13]\n",
      "While the law in this area becomes more settled, entities contemplating using scraping programs to access a public web site should also consider whether such action is authorized by reviewing the terms of use and other terms or notices posted on or made available through the site. In a 2010 ruling in the Cvent, Inc. v. Eventbrite, Inc. In the United States district court for the eastern district of Virginia, the court ruled that the terms of use should be brought to the users' attention In order for a browse wrap contract or license to be enforced.[14] In a 2014 case, filed in the United States District Court for the Eastern District of Pennsylvania,[15] e-commerce site QVC objected to the Pinterest-like shopping aggregator Resultly's 'scraping of QVC's site for real-time pricing data. QVC alleges that Resultly \"excessively crawled\" QVC's retail site (allegedly sending 200-300 search requests to QVC's website per minute, sometimes to up to 36,000 requests per minute) which caused QVC's site to crash for two days, resulting in lost sales for QVC.[16] QVC's complaint alleges that the defendant disguised its web crawler to mask its source IP address and thus prevented QVC from quickly repairing the problem. This is a particularly interesting scraping case because QVC is seeking damages for the unavailability of their website, which QVC claims was caused by Resultly.\n",
      "In the plaintiff's web site during the period of this trial, the terms of use link are displayed among all the links of the site, at the bottom of the page as most sites on the internet. This ruling contradicts the Irish ruling described below. The court also rejected the plaintiff's argument that the browse-wrap restrictions were enforceable in view of Virginia's adoption of the Uniform Computer Information Transactions Act (UCITA)—a uniform law that many believed was in favor on common browse-wrap contracting practices.[17]\n",
      "In Facebook, Inc. v. Power Ventures, Inc., a district court ruled in 2012 that Power Ventures could not scrape Facebook pages on behalf of a Facebook user. The case is on appeal, and the Electronic Frontier Foundation filed a brief in 2015 asking that it be overturned.[18][19] In Associated Press v. Meltwater U.S. Holdings, Inc., a court in the US held Meltwater liable for scraping and republishing news information from the Associated Press, but a court in the United Kingdom held in favor of Meltwater.\n",
      "Internet Archive collects and distributes a significant number of publicly available web pages without being considered to be in violation of copyright laws.\n",
      "\n",
      "The EU[edit]\n",
      "In February 2006, the Danish Maritime and Commercial Court (Copenhagen) ruled that systematic crawling, indexing, and deep linking by portal site ofir.dk of estate site Home.dk does not conflict with Danish law or the database directive of the European Union.[20]\n",
      "In a February 2010 case complicated by matters of jurisdiction, Ireland's High Court delivered a verdict that illustrates the inchoate state of developing case law. In the case of Ryanair Ltd v Billigfluege.de GmbH, Ireland's High Court ruled Ryanair's \"click-wrap\" agreement to be legally binding. In contrast to the findings of the United States District Court Eastern District of Virginia and those of the Danish Maritime and Commercial Court, Justice Michael Hanna ruled that the hyperlink to Ryanair's terms and conditions was plainly visible, and that placing the onus on the user to agree to terms and conditions in order to gain access to online services is sufficient to comprise a contractual relationship.\n",
      "[21] The decision is under appeal in Ireland's Supreme Court.[22]\n",
      "On April 30, 2020, the French Data Protection Authority (CNIL) released new guidelines on web scraping.[23] The CNIL guidelines made it clear that publicly available data is still personal data and cannot be repurposed without the knowledge of the person to whom that data belongs.[24]\n",
      "\n",
      "Australia[edit]\n",
      "In Australia, the Spam Act 2003 outlaws some forms of web harvesting, although this only applies to email addresses.[25][26]\n",
      "\n",
      "India[edit]\n",
      "Leaving a few cases dealing with IPR infringement, Indian courts have not expressly ruled on the legality of web scraping. However, since all common forms of electronic contracts are enforceable in India, violating the terms of use prohibiting data scraping will be a violation of the contract law. It will also violate the Information Technology Act, 2000, which penalizes unauthorized access to a computer resource or extracting data from a computer resource.\n",
      "\n",
      "Methods to prevent web scraping[edit]\n",
      "The administrator of a website can use various measures to stop or slow a bot. Some techniques include:\n",
      "\n",
      "Blocking an IP address either manually or based on criteria such as geolocation and DNSRBL. This will also block all browsing from that address.\n",
      "Disabling any web service API that the website's system might expose.\n",
      "Bots sometimes declare who they are (using user agent strings) and can be blocked on that basis using robots.txt; 'googlebot' is an example. Other bots make no distinction between themselves and a human using a browser.\n",
      "Bots can be blocked by monitoring excess traffic\n",
      "Bots can sometimes be blocked with tools to verify that it is a real person accessing the site, like a CAPTCHA. Bots are sometimes coded to explicitly break specific CAPTCHA patterns or may employ third-party services that utilize human labor to read and respond in real-time to CAPTCHA challenges.\n",
      "Commercial anti-bot services: Companies offer anti-bot and anti-scraping services for websites. A few web application firewalls have limited bot detection capabilities as well. However, many such solutions are not very effective.[27]\n",
      "Locating bots with a honeypot or other method to identify the IP addresses of automated crawlers.\n",
      "Obfuscation using CSS sprites to display such data as telephone numbers or email addresses, at the cost of accessibility to screen reader users.\n",
      "Because bots rely on consistency in the front-end code of a target website, adding small variations to the HTML/CSS surrounding important data and navigation elements would require more human involvement in the initial set up of a bot and if done effectively may render the target website too difficult to scrape due to the diminished ability to automate the scraping process.\n",
      "Websites can declare if crawling is allowed or not in the robots.txt file and allow partial access, limit the crawl rate, specify the optimal time to crawl and more.\n",
      "See also[edit]\n",
      "\n",
      "Archive.today\n",
      "Comparison of feed aggregators\n",
      "Data scraping\n",
      "Data wrangling\n",
      "Importer\n",
      "Job wrapping\n",
      "Knowledge extraction\n",
      "OpenSocial\n",
      "Scraper site\n",
      "Fake news website\n",
      "Blog scraping\n",
      "Spamdexing\n",
      "Domain name drop list\n",
      "Text corpus\n",
      "Web archiving\n",
      "Web crawler\n",
      "Link farm (blog network)\n",
      "Search engine scraping\n",
      "Web crawlers\n",
      "\n",
      "References[edit]\n",
      "\n",
      "\n",
      "^ \"Search Engine History.com\". Search Engine History. Retrieved November 26, 2019.\n",
      "\n",
      "^ Song, Ruihua; Microsoft Research (Sep 14, 2007). \"Joint Optimization of Wrapper Generation and Template Detection\" (PDF). The 13th International Conference on Knowledge Discovery and Data Mining.\n",
      "\n",
      "^ Semantic annotation based web scraping\n",
      "\n",
      "^ Roush, Wade (2012-07-25). \"Diffbot Is Using Computer Vision to Reinvent the Semantic Web\". www.xconomy.com. Retrieved 2013-03-15.\n",
      "\n",
      "^ \"FAQ about linking – Are website terms of use binding contracts?\". www.chillingeffects.org. 2007-08-20. Archived from the original on 2002-03-08. Retrieved 2007-08-20.\n",
      "\n",
      "^ Kenneth, Hirschey, Jeffrey (2014-01-01). \"Symbiotic Relationships: Pragmatic Acceptance of Data Scraping\". Berkeley Technology Law Journal. 29 (4). doi:10.15779/Z38B39B. ISSN 1086-3818.\n",
      "\n",
      "^ \"Internet Law, Ch. 06: Trespass to Chattels\". www.tomwbell.com. 2007-08-20. Retrieved 2007-08-20.\n",
      "\n",
      "^ \"What are the \"trespass to chattels\" claims some companies or website owners have brought?\". www.chillingeffects.org. 2007-08-20. Archived from the original on 2002-03-08. Retrieved 2007-08-20.\n",
      "\n",
      "^ \"Ticketmaster Corp. v. Tickets.com, Inc\". 2007-08-20. Retrieved 2007-08-20.\n",
      "\n",
      "^ \"American Airlines v. FareChase\" (PDF). 2007-08-20. Archived from the original (PDF) on 2011-07-23. Retrieved 2007-08-20.\n",
      "\n",
      "^ \"American Airlines, FareChase Settle Suit\". The Free Library. 2003-06-13. Retrieved 2012-02-26.\n",
      "\n",
      "^ Imperva (2011). Detecting and Blocking Site Scraping Attacks. Imperva white paper..\n",
      "\n",
      "^ Adler, Kenneth A. (2003-07-29). \"Controversy Surrounds 'Screen Scrapers': Software Helps Users Access Web Sites But Activity by Competitors Comes Under Scrutiny\". Retrieved 2010-10-27.\n",
      "\n",
      "^ \"QVC Inc. v. Resultly LLC, No. 14-06714 (E.D. Pa. filed Nov. 24, 2014)\" (PDF). 2014-11-24. Retrieved 2015-11-05.\n",
      "\n",
      "^ \"QVC Inc. v. Resultly LLC, No. 14-06714 (E.D. Pa. filed Nov. 24, 2014)\". United States District Court for the Eastern District of Pennsylvania. Retrieved 5 November 2015.\n",
      "\n",
      "^ Neuburger, Jeffrey D (5 December 2014). \"QVC Sues Shopping App for Web Scraping That Allegedly Triggered Site Outage\". The National Law Review. Proskauer Rose LLP. Retrieved 5 November 2015.\n",
      "\n",
      "^ \"Did Iqbal/Twombly Raise the Bar for Browsewrap Claims?\" (PDF). 2010-09-17. Retrieved 2010-10-27.\n",
      "\n",
      "^ \"Can Scraping Non-Infringing Content Become Copyright Infringement... Because Of How Scrapers Work? | Techdirt\". Techdirt. 2009-06-10. Retrieved 2016-05-24.\n",
      "\n",
      "^ \"Facebook v. Power Ventures\". Electronic Frontier Foundation. Retrieved 2016-05-24.\n",
      "\n",
      "^ \"UDSKRIFT AF SØ- & HANDELSRETTENS DOMBOG\" (PDF) (in Danish). bvhd.dk. 2006-02-24. Archived from the original (PDF) on 2007-10-12. Retrieved 2007-05-30.\n",
      "\n",
      "^ \"High Court of Ireland Decisions >> Ryanair Ltd -v- Billigfluege.de GMBH 2010 IEHC 47 (26 February 2010)\". British and Irish Legal Information Institute. 2010-02-26. Retrieved 2012-04-19.\n",
      "\n",
      "^ Matthews, Áine (June 2010). \"Intellectual Property: Website Terms of Use\". Issue 26: June 2010. LK Shields Solicitors Update. p. 03. Retrieved 2012-04-19.\n",
      "\n",
      "^ \"La réutilisation des données publiquement accessibles en ligne à des fins de démarchage commercial | CNIL\". www.cnil.fr (in French). Retrieved 2020-07-05.\n",
      "\n",
      "^ FindDataLab.com (2020-06-09). \"Can You Still Perform Web Scraping With The New CNIL Guidelines?\". Medium. Retrieved 2020-07-05.\n",
      "\n",
      "^ National Office for the Information Economy (February 2004). \"Spam Act 2003: An overview for business\". Australian Communications Authority. p. 6. Retrieved 2017-12-07.\n",
      "\n",
      "^ National Office for the Information Economy (February 2004). \"Spam Act 2003: A practical guide for business\" (PDF). Australian Communications Authority. p. 20. Retrieved 2017-12-07.\n",
      "\n",
      "^ Mayank Dhiman Breaking Fraud & Bot Detection Solutions OWASP AppSec Cali' 2018 Retrieved February 10, 2018.\n",
      "\n",
      "\n",
      "\n",
      "\n",
      "\n",
      "\n",
      "Retrieved from \"https://en.wikipedia.org/w/index.php?title=Web_scraping&oldid=1007687861\"\n",
      "Categories: Web scrapingHidden categories: CS1 Danish-language sources (da)CS1 French-language sources (fr)Articles with short descriptionShort description matches WikidataArticles needing additional references from June 2017All articles needing additional referencesArticles needing additional references from October 2018Articles with limited geographic scope from October 2015Pages in non-existent country centric categories\n",
      "\n",
      "\n",
      "\n",
      "\n",
      "\n",
      "\n",
      "Navigation menu\n",
      "\n",
      "\n",
      "\n",
      "\n",
      "Personal tools\n",
      "\n",
      "\n",
      "Not logged inTalkContributionsCreate accountLog in\n",
      "\n",
      "\n",
      "\n",
      "\n",
      "\n",
      "\n",
      "Namespaces\n",
      "\n",
      "\n",
      "ArticleTalk\n",
      "\n",
      "\n",
      "\n",
      "\n",
      "\n",
      "\n",
      "Variants\n",
      "\n",
      "\n",
      "\n",
      "\n",
      "\n",
      "\n",
      "\n",
      "\n",
      "\n",
      "\n",
      "Views\n",
      "\n",
      "\n",
      "ReadEditView history\n",
      "\n",
      "\n",
      "\n",
      "\n",
      "\n",
      "\n",
      "More\n",
      "\n",
      "\n",
      "\n",
      "\n",
      "\n",
      "\n",
      "\n",
      "Search\n",
      "\n",
      "\n",
      "\n",
      "\n",
      "\n",
      "\n",
      "\n",
      "\n",
      "\n",
      "\n",
      "\n",
      "\n",
      "\n",
      "\n",
      "\n",
      "\n",
      "\n",
      "\n",
      "\n",
      "Navigation\n",
      "\n",
      "\n",
      "Main pageContentsCurrent eventsRandom articleAbout WikipediaContact usDonate\n",
      "\n",
      "\n",
      "\n",
      "\n",
      "\n",
      "Contribute\n",
      "\n",
      "\n",
      "HelpLearn to editCommunity portalRecent changesUpload file\n",
      "\n",
      "\n",
      "\n",
      "\n",
      "\n",
      "Tools\n",
      "\n",
      "\n",
      "What links hereRelated changesUpload fileSpecial pagesPermanent linkPage informationCite this pageWikidata item\n",
      "\n",
      "\n",
      "\n",
      "\n",
      "\n",
      "Print/export\n",
      "\n",
      "\n",
      "Download as PDFPrintable version\n",
      "\n",
      "\n",
      "\n",
      "\n",
      "\n",
      "Languages\n",
      "\n",
      "\n",
      "العربيةCatalàDeutschEspañolEuskaraFrançaisBahasa IndonesiaÍslenskaItalianoLatviešuNederlands日本語PortuguêsРусскийСрпски / srpskiTürkçeУкраїнська中文\n",
      "Edit links\n",
      "\n",
      "\n",
      "\n",
      "\n",
      "\n",
      "\n",
      " This page was last edited on 19 February 2021, at 11:56 (UTC).\n",
      "Text is available under the Creative Commons Attribution-ShareAlike License;\n",
      "additional terms may apply.  By using this site, you agree to the Terms of Use and Privacy Policy. Wikipedia® is a registered trademark of the Wikimedia Foundation, Inc., a non-profit organization.\n",
      "\n",
      "\n",
      "Privacy policy\n",
      "About Wikipedia\n",
      "Disclaimers\n",
      "Contact Wikipedia\n",
      "Mobile view\n",
      "Developers\n",
      "Statistics\n",
      "Cookie statement\n",
      "\n",
      "\n",
      "\n",
      "\n",
      "\n",
      "\n",
      "\n",
      "\n",
      "\n",
      "\n",
      "\n"
     ]
    }
   ],
   "source": [
    "## parse the raw wiki HTML into a BeautifulSoup object\n",
    "soup = bs4.BeautifulSoup(wikiResponse.text, 'html.parser')\n",
    "## let's see what it looks like by looking specifically\n",
    "## at the text attribute of the soup object\n",
    "print(soup.text)"
   ]
  },
  {
   "cell_type": "markdown",
   "metadata": {
    "id": "t4gudS4xSOaQ"
   },
   "source": [
    "The `.text` attribute of our `BeautifulSoup` object has excessive white space and more text than just the article body that we really want. Luckily, HTML has structure that we can take advantage of to isolate the specific information we want. HTML stores the information displayed on the webpage in tags. For instance, hyperlinks are encoded in `a` tags:\n",
    "\n",
    "```\n",
    "<a href=\"www.google.com\">This text will be hyperlinked to the specified URL.</a>\n",
    "```\n",
    "\n",
    "The basic tag is `<a>`. Notice that it has a matching end tag: `</a>`. The text between the tags is what actually displays on the webpage. This tag has an attribute `href`, which defines the URL to which the text links. If you're not very familiar with HTML, here is [a basic guide](https://www.w3schools.com/html/html_basic.asp). This [comprehensive reference of HTML tags](https://www.w3schools.com/tags/) may also be useful.\n",
    "\n",
    "To extract only the specific text we want from the Wikipedia webpage, we need to inspect the raw HTML to figure out how the data we want is being stored (e.g. in which tags or which attributes of tags). One way to do this is to open the page in a web browser, right clicking anywhere on the page, and selecting 'Inspect' or 'View Page Source'. In some web browsers, like Google Chrome, as you mouse over various tags in the raw HTML, the corresponding element will be highlighted in the displayed page. Keep in mind, if the webpage uses Javascript or dynamic programming, then what you view using the browser tool will not be the same data received via the `requests` package. Instead, you'll want to dump the static version of the web page downloaded via `requests` to an `.html` file on your computer, and then inspect it in a browser as above. \n",
    "\n",
    "Let's dump the scraped text into a file that we can open to inspect:"
   ]
  },
  {
   "cell_type": "code",
   "execution_count": 83,
   "metadata": {
    "id": "jCb6p5iVSOaQ"
   },
   "outputs": [],
   "source": [
    "wiki_file = 'wikipedia_web_scrape.html'\n",
    "\n",
    "with open(wiki_file, mode='w', encoding='utf-8') as f:\n",
    "    f.write(wikiResponse.text)"
   ]
  },
  {
   "cell_type": "markdown",
   "metadata": {
    "id": "YKF-cEPhSOaS"
   },
   "source": [
    "You can also open the raw HTML file in a text editor and use the 'Find' tool (CTRL/CMD + F) to help figure out how data of interest is stored.\n",
    "\n",
    "After inspecting this saved file, it looks like the main text of the web page is within paragraph tags (`<p>`) inside the `<body>` tag."
   ]
  },
  {
   "cell_type": "code",
   "execution_count": 84,
   "metadata": {
    "id": "_R_o--guSOaT",
    "outputId": "0bcd8e53-1ef0-43cf-f7fe-0f239cf57282"
   },
   "outputs": [
    {
     "name": "stdout",
     "output_type": "stream",
     "text": [
      "Web scraping is used for contact scraping, and as a component of applications used for web indexing, web mining and data mining, online price change monitoring and price comparison, product review scraping (to watch the competition), gathering real estate listings, weather data monitoring, website change detection, research, tracking online presence and reputation, web mashup and, web data integration.\n",
      "\n"
     ]
    }
   ],
   "source": [
    "tags = soup.body.findAll('p')\n",
    "for pTag in tags[2:3]:\n",
    "    print(pTag.text)"
   ]
  },
  {
   "cell_type": "markdown",
   "metadata": {
    "id": "D95bGFY-SOaV"
   },
   "source": [
    "We can also save this text as a `pandas` dataframe to make it easier to analyse down the line:"
   ]
  },
  {
   "cell_type": "code",
   "execution_count": 85,
   "metadata": {
    "id": "otP893k4SOaV",
    "outputId": "9028a30b-e827-4255-989e-62d7c55eb7b5"
   },
   "outputs": [
    {
     "data": {
      "text/html": [
       "<div>\n",
       "<style scoped>\n",
       "    .dataframe tbody tr th:only-of-type {\n",
       "        vertical-align: middle;\n",
       "    }\n",
       "\n",
       "    .dataframe tbody tr th {\n",
       "        vertical-align: top;\n",
       "    }\n",
       "\n",
       "    .dataframe thead th {\n",
       "        text-align: right;\n",
       "    }\n",
       "</style>\n",
       "<table border=\"1\" class=\"dataframe\">\n",
       "  <thead>\n",
       "    <tr style=\"text-align: right;\">\n",
       "      <th></th>\n",
       "      <th>paragraph</th>\n",
       "    </tr>\n",
       "  </thead>\n",
       "  <tbody>\n",
       "    <tr>\n",
       "      <th>0</th>\n",
       "      <td>Web scraping, web harvesting, or web data extr...</td>\n",
       "    </tr>\n",
       "    <tr>\n",
       "      <th>1</th>\n",
       "      <td>Web scraping a web page involves fetching it a...</td>\n",
       "    </tr>\n",
       "    <tr>\n",
       "      <th>2</th>\n",
       "      <td>Web scraping is used for contact scraping, and...</td>\n",
       "    </tr>\n",
       "    <tr>\n",
       "      <th>3</th>\n",
       "      <td>Web pages are built using text-based mark-up l...</td>\n",
       "    </tr>\n",
       "    <tr>\n",
       "      <th>4</th>\n",
       "      <td>Newer forms of web scraping involve listening ...</td>\n",
       "    </tr>\n",
       "  </tbody>\n",
       "</table>\n",
       "</div>"
      ],
      "text/plain": [
       "                                           paragraph\n",
       "0  Web scraping, web harvesting, or web data extr...\n",
       "1  Web scraping a web page involves fetching it a...\n",
       "2  Web scraping is used for contact scraping, and...\n",
       "3  Web pages are built using text-based mark-up l...\n",
       "4  Newer forms of web scraping involve listening ..."
      ]
     },
     "execution_count": 85,
     "metadata": {},
     "output_type": "execute_result"
    }
   ],
   "source": [
    "paragraphs = []\n",
    "for pTag in tags:\n",
    "    paragraphs.append(pTag.text)\n",
    "## convert the list to pandas\n",
    "df = pd.DataFrame({'paragraph' : paragraphs})\n",
    "df.head()"
   ]
  },
  {
   "cell_type": "markdown",
   "metadata": {
    "id": "Zz06Pp6oSOaX"
   },
   "source": [
    "## Part 2: NumPy Crash Course\n",
    "\n",
    "NumPy is a Python package fundamental for data science. Refer to the [documentation](https://numpy.org/doc/stable/) if you are stuck on any problems and take a look at the the [quickstart tutorial](https://numpy.org/doc/stable/user/quickstart.html) to help develop your skills.\n",
    "\n",
    "The main array object used in NumPy is the `ndarray`. NumPy arrays are stored in a continuous place in memory, which allows your computer to process these objects up to 50x faster than Python Lists. It supports integers, booleans, floats, strings, and more, but unlike Python Lists, all entries of an `ndarray` must have the same data type. \n",
    "\n"
   ]
  },
  {
   "cell_type": "code",
   "execution_count": 86,
   "metadata": {
    "id": "o07K23GPSOaY"
   },
   "outputs": [],
   "source": [
    "arr1 = np.array([1,7,5,2,4])"
   ]
  },
  {
   "cell_type": "code",
   "execution_count": 87,
   "metadata": {
    "id": "oXBhrXFoSOaa",
    "outputId": "69de80a9-8433-4936-a6f6-ea5dd39ddfbf"
   },
   "outputs": [
    {
     "data": {
      "text/plain": [
       "dtype('int64')"
      ]
     },
     "execution_count": 87,
     "metadata": {},
     "output_type": "execute_result"
    }
   ],
   "source": [
    "arr1.dtype"
   ]
  },
  {
   "cell_type": "code",
   "execution_count": 88,
   "metadata": {
    "id": "mF5LJ7zGSOad"
   },
   "outputs": [],
   "source": [
    "arr2 = np.array([2.1,3,4,1,5])"
   ]
  },
  {
   "cell_type": "code",
   "execution_count": 89,
   "metadata": {
    "id": "YME9Cb29SOaf",
    "outputId": "c44d28ac-bb23-4e72-8163-ccf269dcc993"
   },
   "outputs": [
    {
     "data": {
      "text/plain": [
       "dtype('float64')"
      ]
     },
     "execution_count": 89,
     "metadata": {},
     "output_type": "execute_result"
    }
   ],
   "source": [
    "arr2.dtype"
   ]
  },
  {
   "cell_type": "markdown",
   "metadata": {
    "id": "hlMoCYr3SOah"
   },
   "source": [
    "Numpy arrays support broadcasting of certain operations.  Broadcasted operations are applied elementwise to each member of the ndarray, without the need for an explicit for loop:"
   ]
  },
  {
   "cell_type": "code",
   "execution_count": 90,
   "metadata": {
    "id": "nRF3kIWXSOah",
    "outputId": "09f447b5-df66-482e-8d82-d63517246dc9"
   },
   "outputs": [
    {
     "data": {
      "text/plain": [
       "array([ 3.1, 10. ,  9. ,  3. ,  9. ])"
      ]
     },
     "execution_count": 90,
     "metadata": {},
     "output_type": "execute_result"
    }
   ],
   "source": [
    "##elemetnwise adddition of two ndarrays\n",
    "arr1+arr2"
   ]
  },
  {
   "cell_type": "code",
   "execution_count": 91,
   "metadata": {
    "id": "5PCGKQKvSOaj",
    "outputId": "ccc52234-1bcd-406e-e072-e25fd914f664"
   },
   "outputs": [
    {
     "data": {
      "text/plain": [
       "array([ 2, 14, 10,  4,  8])"
      ]
     },
     "execution_count": 91,
     "metadata": {},
     "output_type": "execute_result"
    }
   ],
   "source": [
    "##elementwise multiplication\n",
    "arr1*2"
   ]
  },
  {
   "cell_type": "code",
   "execution_count": 92,
   "metadata": {
    "id": "db6yc5TySOal",
    "outputId": "1a473312-fdc4-4a06-f1b7-65bf46ee7d99"
   },
   "outputs": [
    {
     "data": {
      "text/plain": [
       "array([ 1, 49, 25,  4, 16])"
      ]
     },
     "execution_count": 92,
     "metadata": {},
     "output_type": "execute_result"
    }
   ],
   "source": [
    "##elementwise exponentiation\n",
    "arr1**2"
   ]
  },
  {
   "cell_type": "markdown",
   "metadata": {
    "id": "Hu5ueqnsSOao"
   },
   "source": [
    "and conditionals:"
   ]
  },
  {
   "cell_type": "code",
   "execution_count": 93,
   "metadata": {
    "id": "JlwWP9i8SOao",
    "outputId": "db0e7b6b-ef18-4965-a467-9d894d1d01d4"
   },
   "outputs": [
    {
     "data": {
      "text/plain": [
       "array([False,  True,  True, False, False])"
      ]
     },
     "execution_count": 93,
     "metadata": {},
     "output_type": "execute_result"
    }
   ],
   "source": [
    "arr1>=5"
   ]
  },
  {
   "cell_type": "markdown",
   "metadata": {
    "id": "-gmm0h4tSOaq"
   },
   "source": [
    "Passing this boolean array into the original array returns the correct values indexed in the original array:"
   ]
  },
  {
   "cell_type": "code",
   "execution_count": 94,
   "metadata": {
    "id": "l-fIoiP1SOaq",
    "outputId": "8304147d-1831-4d92-8875-bf1dcd3aa1a5"
   },
   "outputs": [
    {
     "data": {
      "text/plain": [
       "array([7, 5])"
      ]
     },
     "execution_count": 94,
     "metadata": {},
     "output_type": "execute_result"
    }
   ],
   "source": [
    "arr1[arr1>=5]"
   ]
  },
  {
   "cell_type": "markdown",
   "metadata": {
    "id": "pIWGXPlTSOas"
   },
   "source": [
    "NumPy arrays are multidimensional, and have built in support for common methods used in linear algebra (e.g. matrix multiplication):"
   ]
  },
  {
   "cell_type": "code",
   "execution_count": 95,
   "metadata": {
    "id": "UUBA36gvSOas"
   },
   "outputs": [],
   "source": [
    "arr3= np.array([[1,1],[0,1]])"
   ]
  },
  {
   "cell_type": "code",
   "execution_count": 96,
   "metadata": {
    "id": "0haTjodXSOau",
    "outputId": "5b7e8960-3369-40d9-9906-c3da20648432"
   },
   "outputs": [
    {
     "data": {
      "text/plain": [
       "array([[1, 1],\n",
       "       [0, 1]])"
      ]
     },
     "execution_count": 96,
     "metadata": {},
     "output_type": "execute_result"
    }
   ],
   "source": [
    "arr3"
   ]
  },
  {
   "cell_type": "code",
   "execution_count": 97,
   "metadata": {
    "id": "k7YYIwJzSOaw",
    "outputId": "4a84c90c-4d86-4f3e-bfa8-66d0699474bf",
    "scrolled": true
   },
   "outputs": [
    {
     "data": {
      "text/plain": [
       "array([[1, 2],\n",
       "       [0, 1]])"
      ]
     },
     "execution_count": 97,
     "metadata": {},
     "output_type": "execute_result"
    }
   ],
   "source": [
    "arr3 @ arr3 ##np.dot(arr3,arr3)"
   ]
  },
  {
   "cell_type": "code",
   "execution_count": 98,
   "metadata": {
    "id": "pdy2eEmgSOay",
    "outputId": "51cc6561-f1a6-4747-a3b4-5ed2513a9e5a"
   },
   "outputs": [
    {
     "data": {
      "text/plain": [
       "(2, 2)"
      ]
     },
     "execution_count": 98,
     "metadata": {},
     "output_type": "execute_result"
    }
   ],
   "source": [
    "arr3.shape"
   ]
  },
  {
   "cell_type": "code",
   "execution_count": 99,
   "metadata": {
    "id": "CSoAoy77SOa0",
    "outputId": "4f250274-ed41-4314-c123-96195e87f5bc"
   },
   "outputs": [
    {
     "data": {
      "text/plain": [
       "4"
      ]
     },
     "execution_count": 99,
     "metadata": {},
     "output_type": "execute_result"
    }
   ],
   "source": [
    "arr3.size"
   ]
  },
  {
   "cell_type": "markdown",
   "metadata": {
    "id": "lYl_M_weSOa2"
   },
   "source": [
    "Numpy arrays can be accessed using an index (keep in mind Python indices start at 0):"
   ]
  },
  {
   "cell_type": "code",
   "execution_count": 100,
   "metadata": {
    "id": "MV5SoDEDSOa3"
   },
   "outputs": [],
   "source": [
    "arr3[1,0] = 4"
   ]
  },
  {
   "cell_type": "code",
   "execution_count": 101,
   "metadata": {
    "id": "ky83UphSSOa5",
    "outputId": "4cc7b386-34ad-44aa-cf95-8e2727d0df9e"
   },
   "outputs": [
    {
     "data": {
      "text/plain": [
       "array([[1, 1],\n",
       "       [4, 1]])"
      ]
     },
     "execution_count": 101,
     "metadata": {},
     "output_type": "execute_result"
    }
   ],
   "source": [
    "arr3"
   ]
  },
  {
   "cell_type": "markdown",
   "metadata": {
    "id": "k5SPERkWSOa7"
   },
   "source": [
    "---\n",
    "\n",
    "# Homework\n",
    "\n",
    "# Part 1: `numpy`"
   ]
  },
  {
   "cell_type": "markdown",
   "metadata": {
    "id": "WwkHVqGVSOa7"
   },
   "source": [
    "#### Problem 1\n",
    "Use a `numpy` function similar to Python's `range()` function to create a numpy array of integers from 0-11. Then use the `numpy.reshape()` command to change the array's shape to 4 rows and 3 columns. The numbers should increment row-wise within the array. Print the final result.\n",
    "\n",
    "*(**Hint:** the `numpy` equivalent to Python's `range()` function can be found in the [quickstart tutorial](https://numpy.org/doc/stable/user/quickstart.html).)*\n",
    "\n"
   ]
  },
  {
   "cell_type": "code",
   "execution_count": 126,
   "metadata": {},
   "outputs": [
    {
     "name": "stdout",
     "output_type": "stream",
     "text": [
      "[[ 0  1  2]\n",
      " [ 3  4  5]\n",
      " [ 6  7  8]\n",
      " [ 9 10 11]]\n"
     ]
    }
   ],
   "source": [
    "a = np.arange(12).reshape(4, 3)\n",
    "print(a)"
   ]
  },
  {
   "cell_type": "markdown",
   "metadata": {},
   "source": [
    "#### Problem 2:\n",
    "Beyond integers, `numpy` can generate a list of evenly spaced values within a specified interval using `numpy.linspace()`. Use this function to create an array of 5 evenly spaced values between 0 and 10. Print the final result."
   ]
  },
  {
   "cell_type": "code",
   "execution_count": 103,
   "metadata": {},
   "outputs": [
    {
     "name": "stdout",
     "output_type": "stream",
     "text": [
      "[ 0.   2.5  5.   7.5 10. ]\n"
     ]
    }
   ],
   "source": [
    "result=np.linspace( 0, 10, 5 ) \n",
    "print(result)"
   ]
  },
  {
   "cell_type": "markdown",
   "metadata": {},
   "source": [
    "\n",
    "\n",
    "#### Problem 3:\n",
    "`numpy.zeros()` is a function to instantiate an numpy array of zeros. Use this function to create a new array of zeros with 4 rows and 5 columns with and integer datatype. Then use a nested for loop to iterate over the row and column indices, filling the entries row-wise with the integers from 20 to 39.\n",
    "\n",
    "Print the final array, as well as the data type of the first entry in the array (using the `numpy.dtype` function)."
   ]
  },
  {
   "cell_type": "code",
   "execution_count": 104,
   "metadata": {},
   "outputs": [
    {
     "name": "stdout",
     "output_type": "stream",
     "text": [
      "[[20 21 22 23 24]\n",
      " [25 26 27 28 29]\n",
      " [30 31 32 33 34]\n",
      " [35 36 37 38 39]]\n",
      "The data type for the first entry in the array is int16\n"
     ]
    }
   ],
   "source": [
    "zeros = np.zeros((4,5),dtype=np.int16)\n",
    "start=20\n",
    "count=0\n",
    "for i in range(len(zeros)):\n",
    "    for j in range(len(zeros[i])):\n",
    "        zeros[i][j]=start+count\n",
    "        count=count+1        \n",
    "print(zeros)\n",
    "\n",
    "print(\"The data type for the first entry in the array is \" +str(zeros[0].dtype))"
   ]
  },
  {
   "cell_type": "markdown",
   "metadata": {
    "id": "JxbSyX72SObG"
   },
   "source": [
    "---\n",
    "\n",
    "# Part 2: Exploratory data analysis"
   ]
  },
  {
   "cell_type": "markdown",
   "metadata": {
    "id": "3IgnZ4D8SObG"
   },
   "source": [
    "Our overarching goal in this course is to **explain variation** observed in data, which may be complex, with many observations *(rows)* and variables *(columns)*. Explaining variation involves finding the most plausible process(es) *(properties of and relationships between columns)* that generated the observations *(rows)*. To do so, we poke and prod the data in various ways to uncover patterns; this is often referred to as **exploratory data analysis**.\n",
    "\n",
    "Histograms are a good first step in exploratory data analysis as they only involve information about **one variable**. Before moving on to modelling the relationship between two or more variables, it's good to know more about each individual variable.\n",
    "\n",
    "We can easily make histograms in Python using the function `hist()` from the submodule `matplotlib.pyplot` (here's the [documentation](https://matplotlib.org/api/_as_gen/matplotlib.pyplot.hist.html), as well [a nice overview](https://jakevdp.github.io/PythonDataScienceHandbook/04.05-histograms-and-binnings.html) about how to create histograms in Python).\n",
    "\n",
    "---\n",
    "\n",
    "#### Problem 4\n",
    "Import the submodule `matplotlib.pyplot` as `plt`. Load the file `books.csv` as a `pandas DataFrame` called `books`. Plot a histogram for the `price` column using `plt.hist()`. Label the $x-$ and $y-$axes with \"price\" and \"count\", respectively. Explain why the histogram is not useful."
   ]
  },
  {
   "cell_type": "code",
   "execution_count": 131,
   "metadata": {
    "id": "LPNjRpMFSObI"
   },
   "outputs": [
    {
     "data": {
      "image/png": "[encoded data removed]",
      "text/plain": [
       "<Figure size 432x288 with 1 Axes>"
      ]
     },
     "metadata": {
      "needs_background": "light"
     },
     "output_type": "display_data"
    },
    {
     "name": "stdout",
     "output_type": "stream",
     "text": [
      "This histogram is not useful because it doesnt accurately capture the distribution of book prices, because the intervals are so large and therefore almost all the book prices fall into one bin, the 0-500 bin. I therefore need to remove the outlier sitting in the higher bin in order to get a better sense of the price distribution. \n"
     ]
    }
   ],
   "source": [
    "import matplotlib.pyplot as plt\n",
    "import pandas as pd\n",
    "books = pd.read_csv(\n",
    "    'books.csv')\n",
    "plt.hist(books.price)\n",
    "plt.title('Histogram of Prices')\n",
    "plt.xlabel('Price')\n",
    "plt.ylabel('Count')\n",
    "plt.show()\n",
    "print('This histogram is not useful because it doesnt accurately capture the distribution of book prices, because the intervals are so large and therefore almost all the book prices fall into one bin, the 0-500 bin. I therefore need to remove the outlier sitting in the higher bin in order to get a better sense of the price distribution. ')\n",
    "\n",
    "\n",
    "\n",
    "\n"
   ]
  },
  {
   "cell_type": "markdown",
   "metadata": {
    "id": "O8niKAe1SObI"
   },
   "source": [
    "#### Problem 5: \n",
    "\n",
    "Update the `books` dataframe to exclude the observation with the largest book price and re-make the histogram from problem 4 with the updated dataframe. \n",
    "\n",
    "**Note:** all subsequent problems should use the updated `books` data frame, which excludes the row corresponding to the largest book price in the original data."
   ]
  },
  {
   "cell_type": "code",
   "execution_count": 106,
   "metadata": {},
   "outputs": [
    {
     "data": {
      "image/png": "[encoded data removed]",
      "text/plain": [
       "<Figure size 432x288 with 1 Axes>"
      ]
     },
     "metadata": {
      "needs_background": "light"
     },
     "output_type": "display_data"
    }
   ],
   "source": [
    "largest=max(books['price'])\n",
    "droprow=books[books['price'] == largest].index[0]\n",
    "books=books.drop([droprow], axis=0)\n",
    "plt.hist(books.price)\n",
    "plt.title('Histogram of Prices')\n",
    "plt.xlabel('Price')\n",
    "plt.ylabel('Count')\n",
    "plt.show()"
   ]
  },
  {
   "cell_type": "markdown",
   "metadata": {
    "id": "60fR6R70SObK"
   },
   "source": [
    "---\n",
    "\n",
    "This distribution has two peaks: one around fifteen dollars and one around twenty-seven. Why might this distribution might have two peaks...? (See [here](https://www.slj.com/?detailStory=sljs-average-book-prices-2018) for a hint.) Knowing that the distribution of book prices has two peaks (and having an idea of what might drive this pattern) could affect modelling choices we make down the line.\n",
    "\n",
    "A small group of observations that are significantly far from the bulk of the data are called **outliers**. Outliers may be interesting points to investigate further, or they may result from data entry errors. In this case, notice that the maximum book price in the original data set is about 100x larger than the rest of the prices. This likely resulted from this price being entered without a decimal point, and so is probably a simple data entry error.\n",
    "\n",
    "Histograms are one way to detect outliers. In general, histograms can allow us to **detect outliers** within single variables of our data. We can usually correct for these outliers, but only if we know about them! Consider experimenting with the `range` and `bin` parameters within the `hist()` function (ex: hist(bins=100)) to familiarize yourself with different ways of visualizing data and accounting for outliers."
   ]
  },
  {
   "cell_type": "markdown",
   "metadata": {
    "id": "AEyhCt-OSObL"
   },
   "source": [
    "#### Problem 6:\n",
    "Lets examine how the price of a book might vary as a function of it's publication year (Perhaps older, rarer, books command a premium?). Loop over the publication years listed in books, and produce a plot of the average price of books as a function of year. When iterating through each publication year, use a list comprehension rather than a groupby or for loop.  (Please note that in general, groupby is preferred for this operation, use a list comprehension for pedagogical reasons).  Be sure to approriately label your axes.  Do you see any discernible trend?\n",
    "\n",
    "*Hint: You may find it useful to [subset your dataframe](https://pandas.pydata.org/pandas-docs/stable/user_guide/indexing.html#the-where-method-and-masking) for each year and the use the `.mean()` on the price column.  You will also want to sort your years to produce a nice graph, look up np.sort.*"
   ]
  },
  {
   "cell_type": "code",
   "execution_count": 127,
   "metadata": {},
   "outputs": [
    {
     "data": {
      "image/png": "[encoded data removed]",
      "text/plain": [
       "<Figure size 432x288 with 1 Axes>"
      ]
     },
     "metadata": {
      "needs_background": "light"
     },
     "output_type": "display_data"
    },
    {
     "name": "stdout",
     "output_type": "stream",
     "text": [
      "Book prices appear to follow a trend where they experience a sharp increase every 2-3 years, followed by a sharp decrease.\n"
     ]
    }
   ],
   "source": [
    "years= books[\"publication_year\"].unique()\n",
    "sort_year=np.sort(years)\n",
    "prices=[books[books.publication_year==year].price.mean() for year in sort_year]\n",
    "plt.plot(sort_year,prices)\n",
    "plt.title('Price by Publication Year')\n",
    "plt.xlabel('Publication Year')\n",
    "plt.ylabel('Price')\n",
    "plt.show()\n",
    "print(\"Book prices appear to follow a trend where they experience a sharp increase every 2-3 years, followed by a sharp decrease.\")"
   ]
  },
  {
   "cell_type": "markdown",
   "metadata": {
    "id": "vgJkyVWfSObN"
   },
   "source": [
    "#### Problem 7\n",
    "Create a histogram of the number of books published ($y-$axis) per genre ($x-$axis). Be sure to clearly label each axis and give the chart an appropriate title. "
   ]
  },
  {
   "cell_type": "code",
   "execution_count": 129,
   "metadata": {},
   "outputs": [
    {
     "data": {
      "image/png": "[encoded data removed]",
      "text/plain": [
       "<Figure size 432x288 with 1 Axes>"
      ]
     },
     "metadata": {
      "needs_background": "light"
     },
     "output_type": "display_data"
    }
   ],
   "source": [
    "plt.hist(books['genre'])\n",
    "plt.xlabel('Genre')\n",
    "plt.ylabel('Number of Books Published')\n",
    "plt.title('Number of Books Published per Genre')\n",
    "plt.show()"
   ]
  },
  {
   "cell_type": "markdown",
   "metadata": {
    "id": "UuRcpAGpSObP"
   },
   "source": [
    "#### Problem 8\n",
    "\n",
    "For each genre, calculate the mean and standard deviation for book prices within that genre and print the results. Do this with a regular for loop, later we'll use a groupby.\n",
    "\n",
    "**When printing numbers throughout this notebook, please round to two decimal places and provide context for the number.** \n",
    "\n",
    "*(**Hint:** A pandas column is usually accessed as a `pandas.Series` (a one-dimensional array). These arrays have methods to calculate summary statistics, like the mean, median, variance, and standard deviation.)*"
   ]
  },
  {
   "cell_type": "code",
   "execution_count": 109,
   "metadata": {},
   "outputs": [
    {
     "name": "stdout",
     "output_type": "stream",
     "text": [
      "Fantasy\n",
      "Mean price: 20.97\n",
      "Standard Deviation 5.89\n",
      "\n",
      "\n",
      "Horror\n",
      "Mean price: 21.33\n",
      "Standard Deviation 5.96\n",
      "\n",
      "\n",
      "Mystery Fiction\n",
      "Mean price: 20.71\n",
      "Standard Deviation 6.28\n",
      "\n",
      "\n",
      "Romance\n",
      "Mean price: 22.53\n",
      "Standard Deviation 5.91\n",
      "\n",
      "\n",
      "Young Adult\n",
      "Mean price: 21.55\n",
      "Standard Deviation 7.19\n",
      "\n",
      "\n"
     ]
    }
   ],
   "source": [
    "genre_unique= books[\"genre\"].unique()\n",
    "sort_genre=np.sort(genre_unique)\n",
    "for genres in sort_genre:\n",
    "    mean_price=books[books.genre==genres].price.mean()\n",
    "    deviation=books[books.genre==genres].price.std()\n",
    "    print(genres)\n",
    "    print(\"Mean price: {:.2f}\".format(mean_price))\n",
    "    print(\"Standard Deviation {:.2f}\".format(deviation))\n",
    "    print(\"\\n\")"
   ]
  },
  {
   "cell_type": "markdown",
   "metadata": {
    "id": "jpVIBDg1SObS"
   },
   "source": [
    "#### Problem 9\n",
    "Normalization is a technique which is often applied to data for purposes of hypothesis testing and for ease of analysis.  Divide all Horror book prices by the corresponding standard deviation calculated above, and then recalculate the variance and standard deviation of this newly scaled data and print the results.  Give a comment explaining why your new results make sense."
   ]
  },
  {
   "cell_type": "code",
   "execution_count": 110,
   "metadata": {},
   "outputs": [
    {
     "name": "stdout",
     "output_type": "stream",
     "text": [
      "Variance of Horror Book Prices, normalized: 1.00\n",
      "Standard Deviation of Horror Book Prices, normalized 1.00\n",
      "\n",
      "\n",
      "When you normalize data, you set the mean equal to 0 and the standard deviation equal to one. Since variance is the square of the standard deviation, it makes sense that the variance is also 1 since 1^2=1\n"
     ]
    }
   ],
   "source": [
    "horror_prices = books[books.genre==\"Horror\"].price\n",
    "horror_list = horror_prices/5.96\n",
    "varh=horror_list.var()\n",
    "stdh=horror_list.std()\n",
    "print(\"Variance of Horror Book Prices, normalized: {:.2f}\".format(varh))\n",
    "print(\"Standard Deviation of Horror Book Prices, normalized {:.2f}\".format(stdh))\n",
    "print(\"\\n\")\n",
    "print('When you normalize data, you set the mean equal to 0 and the standard deviation equal to one. Since variance is the square of the standard deviation, it makes sense that the variance is also 1 since 1^2=1')"
   ]
  },
  {
   "cell_type": "markdown",
   "metadata": {
    "id": "LPsJh65PSObX"
   },
   "source": [
    "#### Problem 10\n",
    "Now, multiply the unnormalized horror book price data by 2, and compute both the standard deviation and variance of this data. How does it compare to the standard deviation and variance computed in problem 8?  Specifically, compute the ratio of these standard deviations and variances, and briefly explain how scaling the data by a factor of two changed these quantities.  When comparing the ratio of variances to ratio of standard deviations, why would this finding make sense?"
   ]
  },
  {
   "cell_type": "code",
   "execution_count": 130,
   "metadata": {},
   "outputs": [
    {
     "name": "stdout",
     "output_type": "stream",
     "text": [
      "New Standard Deviation 11.92\n",
      "New Variance: 142.11\n",
      "Ratio of Variance: 4.00\n",
      "Ratio of Standard Deviation: 2.00\n",
      "\n",
      "\n",
      "When you rescale the data by a constant, the standard deviation is also rescaled by that same constant. So, since we multiplied each data point by 2, the standard deviation is now also doubled. The variance is rescaled by the constant squared. 2^2=4, which is why the new variance is 4x the old variance. When comparing the ratio of standard deviation and the ratio of variance, the ratio if variance is equal to the ratio of the standard deviation squared, which makes sense since the formula for finding variance is (standard deviation)^2\n"
     ]
    }
   ],
   "source": [
    "horror_prices2= books[books.genre==\"Horror\"].price\n",
    "horror_list2 = horror_prices2*2\n",
    "stdh2=horror_list2.std()\n",
    "varh2=horror_list2.var()\n",
    "\n",
    "original_horror = books[books.genre==\"Horror\"].price\n",
    "original_var=original_horror.var()\n",
    "\n",
    "ratio1=varh2/original_var\n",
    "ratio2=stdh2/5.96\n",
    "\n",
    "print(\"New Standard Deviation {:.2f}\".format(stdh2))\n",
    "print(\"New Variance: {:.2f}\".format(varh2))\n",
    "print(\"Ratio of Variance: {:.2f}\".format(ratio1))\n",
    "print(\"Ratio of Standard Deviation: {:.2f}\".format(ratio2))\n",
    "print('\\n')\n",
    "print('When you rescale the data by a constant, the standard deviation is also rescaled by that same constant. So, since we multiplied each data point by 2, the standard deviation is now also doubled. The variance is rescaled by the constant squared. 2^2=4, which is why the new variance is 4x the old variance. When comparing the ratio of standard deviation and the ratio of variance, the ratio if variance is equal to the ratio of the standard deviation squared, which makes sense since the formula for finding variance is (standard deviation)^2')\n"
   ]
  },
  {
   "cell_type": "markdown",
   "metadata": {
    "id": "A8AgjGxzSObe"
   },
   "source": [
    "#### Problem 11\n",
    "\n",
    "A [box plot](https://pandas.pydata.org/pandas-docs/stable/reference/api/pandas.DataFrame.boxplot.html) depicts the distribution of a numerical variable based on different categorical groups. The box edges are defined by the first and third quartiles of the data, with a line at the median (the second quartile). The whiskers extend from the edges of box to show the range of (most of) the data. Some boxplot methods use the whiskers to show the *entire* range of the data, while others go to some multiple of the standard deviation (usually 1.5$\\sigma$ or 2$\\sigma$) and represent data beyond that (outliers) by single points.\n",
    "\n",
    "Use `pandas` to create a box plot of our price data grouped by genre. Which genre has the largest price range? Which has the largest median?"
   ]
  },
  {
   "cell_type": "code",
   "execution_count": 124,
   "metadata": {},
   "outputs": [
    {
     "data": {
      "image/png": "[encoded data removed]",
      "text/plain": [
       "<Figure size 432x288 with 1 Axes>"
      ]
     },
     "metadata": {
      "needs_background": "light"
     },
     "output_type": "display_data"
    },
    {
     "name": "stdout",
     "output_type": "stream",
     "text": [
      "The largest price range is for young adult books, largest median is for romance books\n"
     ]
    }
   ],
   "source": [
    "books.boxplot('price', by='genre')\n",
    "plt.xlabel('Genre')\n",
    "plt.ylabel('Price')\n",
    "plt.show()\n",
    "\n",
    "print(\"The largest price range is for young adult books, largest median is for romance books\" )"
   ]
  },
  {
   "cell_type": "markdown",
   "metadata": {
    "id": "z3K-yqYQSObg"
   },
   "source": [
    "#### Problem 12\n",
    "Calculate the mean and standard deviation of the price of all books published from 2008 on (inclusive).\n",
    "\n",
    "**Remember to print your answer with context and rounded to two decimal places.**\n",
    "\n",
    "*(**Hint:** you may find the the `pandas` `DataFrame` method [`.describe()`](https://pandas.pydata.org/pandas-docs/stable/reference/api/pandas.DataFrame.describe.html) useful.)*"
   ]
  },
  {
   "cell_type": "code",
   "execution_count": 113,
   "metadata": {},
   "outputs": [
    {
     "data": {
      "text/html": [
       "<div>\n",
       "<style scoped>\n",
       "    .dataframe tbody tr th:only-of-type {\n",
       "        vertical-align: middle;\n",
       "    }\n",
       "\n",
       "    .dataframe tbody tr th {\n",
       "        vertical-align: top;\n",
       "    }\n",
       "\n",
       "    .dataframe thead th {\n",
       "        text-align: right;\n",
       "    }\n",
       "</style>\n",
       "<table border=\"1\" class=\"dataframe\">\n",
       "  <thead>\n",
       "    <tr style=\"text-align: right;\">\n",
       "      <th></th>\n",
       "      <th>Unnamed: 0</th>\n",
       "      <th>book_id</th>\n",
       "      <th>publication_year</th>\n",
       "      <th>price</th>\n",
       "    </tr>\n",
       "  </thead>\n",
       "  <tbody>\n",
       "    <tr>\n",
       "      <th>count</th>\n",
       "      <td>203.000000</td>\n",
       "      <td>203.000000</td>\n",
       "      <td>203.000000</td>\n",
       "      <td>203.000000</td>\n",
       "    </tr>\n",
       "    <tr>\n",
       "      <th>mean</th>\n",
       "      <td>149.078818</td>\n",
       "      <td>149.078818</td>\n",
       "      <td>2013.068966</td>\n",
       "      <td>20.987685</td>\n",
       "    </tr>\n",
       "    <tr>\n",
       "      <th>std</th>\n",
       "      <td>91.302639</td>\n",
       "      <td>91.302639</td>\n",
       "      <td>3.075803</td>\n",
       "      <td>6.248575</td>\n",
       "    </tr>\n",
       "    <tr>\n",
       "      <th>min</th>\n",
       "      <td>0.000000</td>\n",
       "      <td>0.000000</td>\n",
       "      <td>2008.000000</td>\n",
       "      <td>8.750000</td>\n",
       "    </tr>\n",
       "    <tr>\n",
       "      <th>25%</th>\n",
       "      <td>69.000000</td>\n",
       "      <td>69.000000</td>\n",
       "      <td>2011.000000</td>\n",
       "      <td>15.560000</td>\n",
       "    </tr>\n",
       "    <tr>\n",
       "      <th>50%</th>\n",
       "      <td>151.000000</td>\n",
       "      <td>151.000000</td>\n",
       "      <td>2013.000000</td>\n",
       "      <td>21.000000</td>\n",
       "    </tr>\n",
       "    <tr>\n",
       "      <th>75%</th>\n",
       "      <td>231.500000</td>\n",
       "      <td>231.500000</td>\n",
       "      <td>2016.000000</td>\n",
       "      <td>26.330000</td>\n",
       "    </tr>\n",
       "    <tr>\n",
       "      <th>max</th>\n",
       "      <td>300.000000</td>\n",
       "      <td>300.000000</td>\n",
       "      <td>2018.000000</td>\n",
       "      <td>36.670000</td>\n",
       "    </tr>\n",
       "  </tbody>\n",
       "</table>\n",
       "</div>"
      ],
      "text/plain": [
       "       Unnamed: 0     book_id  publication_year       price\n",
       "count  203.000000  203.000000        203.000000  203.000000\n",
       "mean   149.078818  149.078818       2013.068966   20.987685\n",
       "std     91.302639   91.302639          3.075803    6.248575\n",
       "min      0.000000    0.000000       2008.000000    8.750000\n",
       "25%     69.000000   69.000000       2011.000000   15.560000\n",
       "50%    151.000000  151.000000       2013.000000   21.000000\n",
       "75%    231.500000  231.500000       2016.000000   26.330000\n",
       "max    300.000000  300.000000       2018.000000   36.670000"
      ]
     },
     "execution_count": 113,
     "metadata": {},
     "output_type": "execute_result"
    }
   ],
   "source": [
    "rows_2008=books.loc[books['publication_year'] >=2008]\n",
    "rows_2008.describe()"
   ]
  },
  {
   "cell_type": "code",
   "execution_count": 123,
   "metadata": {},
   "outputs": [
    {
     "name": "stdout",
     "output_type": "stream",
     "text": [
      "Mean of all book prices published from 2008 onwards (inclusive): 20.98\n",
      "Standard Deviation of all book prices published from 2008 onwards (inclusive): 6.25\n"
     ]
    }
   ],
   "source": [
    "print('Mean of all book prices published from 2008 onwards (inclusive): ' +str(20.98))\n",
    "print('Standard Deviation of all book prices published from 2008 onwards (inclusive): ' + str(6.25))"
   ]
  },
  {
   "cell_type": "markdown",
   "metadata": {
    "id": "_DIAPHwESObm"
   },
   "source": [
    "#### Problem 13\n",
    "In part 8, we used a for loop to compute mean price as a function of genre.  Now, use the `pandas` `DataFrame` `.group_by()` method to group the data by genre and calculate the mean price for each group, your results should match those earlier computed.\n",
    "\n",
    "**Print your answer with context, rounded to two decimal places**\n",
    "\n",
    "*(**Hint:** `pandas` `DataFrame` objects have a `.mean()` method.)*"
   ]
  },
  {
   "cell_type": "code",
   "execution_count": 115,
   "metadata": {},
   "outputs": [
    {
     "name": "stdout",
     "output_type": "stream",
     "text": [
      "genre\n",
      "Fantasy            20.97\n",
      "Horror             21.33\n",
      "Mystery Fiction    20.71\n",
      "Romance            22.53\n",
      "Young Adult        21.55\n",
      "Name: price, dtype: float64\n",
      "\n",
      "\n",
      " The mean price for Fantasy is $20.97, the mean price for horror is $21.33, the mean price for mystery fiction is $20.71, the mean price for romance is $22.53 and the mean price for young adult is $21.28. These prices match the mean prices we computed earlier.\n"
     ]
    }
   ],
   "source": [
    "meanprice=round(books.groupby('genre')['price'].mean(), 2)\n",
    "print(meanprice)\n",
    "print(\"\\n\")\n",
    "print(\" The mean price for Fantasy is $20.97, the mean price for horror is $21.33, the mean price for mystery fiction is $20.71, the mean price for romance is $22.53 and the mean price for young adult is $21.28. These prices match the mean prices we computed earlier.\")"
   ]
  },
  {
   "cell_type": "markdown",
   "metadata": {
    "id": "KGpjJudeSObo"
   },
   "source": [
    "---\n",
    "\n",
    "## Part 3: From web scraping to web crawling\n",
    "\n",
    "#### Problem 14\n",
    "The web scraping example from discussion section using the `requests` and`BeautifulSoup` packages demonstrated how to extract paragraphs from a Wikipedia page. What if we were interested in all the content related to that topic, which may span several articles, stored on different web pages? Wikipedia conveniently includes hyperlinks to other Wikipedia pages for related content within the body of an article's web page.\n",
    "\n",
    "For this problem use `requests` and`BeautifulSoup` to extract a list of all the `<a>` tags within the text body of the [Data Science](https://en.wikipedia.org/wiki/Data_science) page. These `<a>` tags define a hyperlink and contain an href attribute, which contain the hyperlink's destination. \n",
    "\n",
    "_(**Hint:** the provided example already demonstrates how to find all the HTML `<p>` tags. Within those paragraphs is another element to identify hyperlinks, the `<a>` tag, which can be found using the `.findAll()` method for `BeautifulSoup` objects.)_\n",
    "\n",
    "**Confidence check: this list should contain the first ten elements:\n",
    "```\n",
    "[<a class=\"mw-redirect\" href=\"/wiki/Inter-disciplinary\" title=\"Inter-disciplinary\">inter-disciplinary</a>,\n",
    " <a href=\"/wiki/Knowledge\" title=\"Knowledge\">knowledge</a>,\n",
    " <a href=\"/wiki/Unstructured_data\" title=\"Unstructured data\">unstructured data</a>,\n",
    " <a href=\"#cite_note-1\">[1]</a>,\n",
    " <a href=\"#cite_note-2\">[2]</a>,\n",
    " <a href=\"/wiki/Data_mining\" title=\"Data mining\">data mining</a>,\n",
    " <a href=\"/wiki/Machine_learning\" title=\"Machine learning\">machine learning</a>,\n",
    " <a href=\"/wiki/Big_data\" title=\"Big data\">big data</a>,\n",
    " <a href=\"/wiki/Statistics\" title=\"Statistics\">statistics</a>,\n",
    " <a href=\"/wiki/Data_analysis\" title=\"Data analysis\">data analysis</a>]\n",
    " ```\n"
   ]
  },
  {
   "cell_type": "code",
   "execution_count": 116,
   "metadata": {},
   "outputs": [
    {
     "name": "stdout",
     "output_type": "stream",
     "text": [
      "<a class=\"mw-redirect\" href=\"/wiki/Inter-disciplinary\" title=\"Inter-disciplinary\">inter-disciplinary</a>\n",
      "<a href=\"/wiki/Knowledge\" title=\"Knowledge\">knowledge</a>\n",
      "<a href=\"/wiki/Unstructured_data\" title=\"Unstructured data\">unstructured data</a>\n",
      "<a href=\"#cite_note-1\">[1]</a>\n",
      "<a href=\"#cite_note-2\">[2]</a>\n",
      "<a href=\"/wiki/Data_mining\" title=\"Data mining\">data mining</a>\n",
      "<a href=\"/wiki/Machine_learning\" title=\"Machine learning\">machine learning</a>\n",
      "<a href=\"/wiki/Big_data\" title=\"Big data\">big data</a>\n",
      "<a href=\"/wiki/Statistics\" title=\"Statistics\">statistics</a>\n",
      "<a href=\"/wiki/Data_analysis\" title=\"Data analysis\">data analysis</a>\n",
      "<a href=\"#cite_note-3\">[3]</a>\n",
      "<a href=\"/wiki/Mathematics\" title=\"Mathematics\">mathematics</a>\n",
      "<a href=\"/wiki/Statistics\" title=\"Statistics\">statistics</a>\n",
      "<a href=\"/wiki/Computer_science\" title=\"Computer science\">computer science</a>\n",
      "<a href=\"/wiki/Domain_knowledge\" title=\"Domain knowledge\">domain knowledge</a>\n",
      "<a href=\"/wiki/Information_science\" title=\"Information science\">information science</a>\n",
      "<a class=\"mw-redirect\" href=\"/wiki/Turing_award\" title=\"Turing award\">Turing award</a>\n",
      "<a href=\"/wiki/Jim_Gray_(computer_scientist)\" title=\"Jim Gray (computer scientist)\">Jim Gray</a>\n",
      "<a href=\"/wiki/Empirical_research\" title=\"Empirical research\">empirical</a>\n",
      "<a href=\"/wiki/Basic_research\" title=\"Basic research\">theoretical</a>\n",
      "<a href=\"/wiki/Computational_science\" title=\"Computational science\">computational</a>\n",
      "<a href=\"/wiki/Information_technology\" title=\"Information technology\">information technology</a>\n",
      "<a href=\"/wiki/Information_explosion\" title=\"Information explosion\">data deluge</a>\n",
      "<a href=\"#cite_note-TansleyTolle2009-4\">[4]</a>\n",
      "<a href=\"#cite_note-BellHey2009-5\">[5]</a>\n",
      "<a href=\"/wiki/Big_data\" title=\"Big data\">big data</a>\n",
      "<a href=\"#cite_note-6\">[6]</a>\n",
      "<a href=\"/wiki/Information_visualization\" title=\"Information visualization\">information visualization</a>\n",
      "<a class=\"mw-redirect\" href=\"/wiki/Complex_systems\" title=\"Complex systems\">complex systems</a>\n",
      "<a href=\"/wiki/Communication\" title=\"Communication\">communication</a>\n",
      "<a href=\"#cite_note-7\">[7]</a>\n",
      "<a href=\"#cite_note-8\">[8]</a>\n",
      "<a href=\"/wiki/Nathan_Yau\" title=\"Nathan Yau\">Nathan Yau</a>\n",
      "<a href=\"/wiki/Ben_Fry\" title=\"Ben Fry\">Ben Fry</a>\n",
      "<a href=\"/wiki/Human%E2%80%93computer_interaction\" title=\"Human–computer interaction\">human-computer interaction</a>\n",
      "<a href=\"#cite_note-9\">[9]</a>\n",
      "<a href=\"#cite_note-10\">[10]</a>\n",
      "<a href=\"/wiki/American_Statistical_Association\" title=\"American Statistical Association\">American Statistical Association</a>\n",
      "<a href=\"/wiki/Database\" title=\"Database\">database management</a>\n",
      "<a href=\"/wiki/Machine_learning\" title=\"Machine learning\">machine learning</a>\n",
      "<a href=\"/wiki/Distributed_computing\" title=\"Distributed computing\">distributed and parallel systems</a>\n",
      "<a href=\"#cite_note-11\">[11]</a>\n",
      "<a href=\"/wiki/Nate_Silver\" title=\"Nate Silver\">Nate Silver</a>\n",
      "<a href=\"#cite_note-12\">[12]</a>\n",
      "<a href=\"#cite_note-13\">[13]</a>\n",
      "<a href=\"/wiki/Vasant_Dhar\" title=\"Vasant Dhar\">Vasant Dhar</a>\n",
      "<a href=\"#cite_note-14\">[14]</a>\n",
      "<a href=\"/wiki/Andrew_Gelman\" title=\"Andrew Gelman\">Andrew Gelman</a>\n",
      "<a href=\"/wiki/Columbia_University\" title=\"Columbia University\">Columbia University</a>\n",
      "<a href=\"#cite_note-15\">[15]</a>\n",
      "<a href=\"#cite_note-16\">[16]</a>\n",
      "<a href=\"/wiki/David_Donoho\" title=\"David Donoho\">David Donoho</a>\n",
      "<a href=\"#cite_note-:7-17\">[17]</a>\n",
      "<a href=\"/wiki/John_Tukey\" title=\"John Tukey\">John Tukey</a>\n",
      "<a href=\"#cite_note-:7-17\">[17]</a>\n",
      "<a class=\"mw-redirect\" href=\"/wiki/C.F._Jeff_Wu\" title=\"C.F. Jeff Wu\">C.F. Jeff Wu</a>\n",
      "<a class=\"mw-redirect\" href=\"/wiki/Data_Science\" title=\"Data Science\">Data Science</a>\n",
      "<a href=\"#cite_note-18\">[18]</a>\n",
      "<a href=\"/wiki/Montpellier_2_University\" title=\"Montpellier 2 University\">University of Montpellier II</a>\n",
      "<a href=\"#cite_note-19\">[19]</a>\n",
      "<a href=\"#cite_note-Murtagh_2018_14-20\">[20]</a>\n",
      "<a href=\"/wiki/Peter_Naur\" title=\"Peter Naur\">Peter Naur</a>\n",
      "<a href=\"#cite_note-:0-21\">[21]</a>\n",
      "<a href=\"#cite_note-:0-21\">[21]</a>\n",
      "<a class=\"mw-redirect\" href=\"/wiki/C.F._Jeff_Wu\" title=\"C.F. Jeff Wu\">C.F. Jeff Wu</a>\n",
      "<a href=\"#cite_note-22\">[22]</a>\n",
      "<a href=\"#cite_note-Murtagh_2018_14-20\">[20]</a>\n",
      "<a href=\"#cite_note-:1-23\">[23]</a>\n",
      "<a href=\"#cite_note-:0-21\">[21]</a>\n",
      "<a href=\"/wiki/William_S._Cleveland\" title=\"William S. Cleveland\">William S. Cleveland</a>\n",
      "<a href=\"#cite_note-24\">[24]</a>\n",
      "<a href=\"#cite_note-:1-23\">[23]</a>\n",
      "<a href=\"/wiki/Committee_on_Data_for_Science_and_Technology\" title=\"Committee on Data for Science and Technology\">Committee on Data for Science and Technology</a>\n",
      "<a href=\"#cite_note-:1-23\">[23]</a>\n",
      "<a href=\"/wiki/American_Statistical_Association\" title=\"American Statistical Association\">American Statistical Association</a>\n",
      "<a href=\"#cite_note-25\">[25]</a>\n",
      "<a href=\"/wiki/DJ_Patil\" title=\"DJ Patil\">DJ Patil</a>\n",
      "<a href=\"/wiki/Jeff_Hammerbacher\" title=\"Jeff Hammerbacher\">Jeff Hammerbacher</a>\n",
      "<a href=\"#cite_note-26\">[26]</a>\n",
      "<a href=\"/wiki/National_Science_Board\" title=\"National Science Board\">National Science Board</a>\n",
      "<a href=\"#cite_note-27\">[27]</a>\n",
      "<a href=\"#cite_note-28\">[28]</a>\n",
      "<a href=\"#cite_note-:5-29\">[29]</a>\n",
      "<a href=\"#cite_note-:5-29\">[29]</a>\n",
      "<a href=\"#cite_note-:6-30\">[30]</a>\n",
      "<a href=\"#cite_note-:6-30\">[30]</a>\n",
      "<a href=\"#cite_note-:6-30\">[30]</a>\n"
     ]
    }
   ],
   "source": [
    "datasci = 'https://en.wikipedia.org/wiki/Data_science'\n",
    "request=requests.get(datasci)\n",
    "soup = bs4.BeautifulSoup(request.text, 'html.parser')\n",
    "ptags=str(soup.body.findAll('p'))\n",
    "asoup=bs4.BeautifulSoup(ptags,'html.parser')\n",
    "atags=asoup.findAll('a')\n",
    "for thetags in atags:\n",
    "    print(thetags)"
   ]
  },
  {
   "cell_type": "markdown",
   "metadata": {},
   "source": [
    "#### Problem 15\n",
    "Remember, each `<a>` tag element contains an `href` attribute, which indicate's the hyperlink's destination. From the list you created in problem 14 create a new list of only the Wikipedia URLS. Keep only the `href` attributes that include the string \"/wiki/\" then append each of these to the end of the Wikipedia URL: \"https://en.wikipedia.org\"\n",
    "\n",
    "_**Confidence check:** The final list should start with:_\n",
    "\n",
    "```\n",
    "https://en.wikipedia.org/wiki/Big_data'\n",
    " ```"
   ]
  },
  {
   "cell_type": "code",
   "execution_count": 125,
   "metadata": {
    "id": "CN9KYNHWSObx"
   },
   "outputs": [
    {
     "name": "stdout",
     "output_type": "stream",
     "text": [
      "                                                    0\n",
      "0    https://en.wikipedia.org/wiki/Inter-disciplinary\n",
      "1             https://en.wikipedia.org/wiki/Knowledge\n",
      "2     https://en.wikipedia.org/wiki/Unstructured_data\n",
      "3           https://en.wikipedia.org/wiki/Data_mining\n",
      "4      https://en.wikipedia.org/wiki/Machine_learning\n",
      "5              https://en.wikipedia.org/wiki/Big_data\n",
      "6            https://en.wikipedia.org/wiki/Statistics\n",
      "7         https://en.wikipedia.org/wiki/Data_analysis\n",
      "8           https://en.wikipedia.org/wiki/Mathematics\n",
      "9            https://en.wikipedia.org/wiki/Statistics\n",
      "10     https://en.wikipedia.org/wiki/Computer_science\n",
      "11     https://en.wikipedia.org/wiki/Domain_knowledge\n",
      "12  https://en.wikipedia.org/wiki/Information_science\n",
      "13         https://en.wikipedia.org/wiki/Turing_award\n",
      "14  https://en.wikipedia.org/wiki/Jim_Gray_(comput...\n",
      "15   https://en.wikipedia.org/wiki/Empirical_research\n",
      "16       https://en.wikipedia.org/wiki/Basic_research\n",
      "17  https://en.wikipedia.org/wiki/Computational_sc...\n",
      "18  https://en.wikipedia.org/wiki/Information_tech...\n",
      "19  https://en.wikipedia.org/wiki/Information_expl...\n",
      "20             https://en.wikipedia.org/wiki/Big_data\n",
      "21  https://en.wikipedia.org/wiki/Information_visu...\n",
      "22      https://en.wikipedia.org/wiki/Complex_systems\n",
      "23        https://en.wikipedia.org/wiki/Communication\n",
      "24           https://en.wikipedia.org/wiki/Nathan_Yau\n",
      "25              https://en.wikipedia.org/wiki/Ben_Fry\n",
      "26  https://en.wikipedia.org/wiki/Human%E2%80%93co...\n",
      "27  https://en.wikipedia.org/wiki/American_Statist...\n",
      "28             https://en.wikipedia.org/wiki/Database\n",
      "29     https://en.wikipedia.org/wiki/Machine_learning\n",
      "30  https://en.wikipedia.org/wiki/Distributed_comp...\n",
      "31          https://en.wikipedia.org/wiki/Nate_Silver\n",
      "32          https://en.wikipedia.org/wiki/Vasant_Dhar\n",
      "33        https://en.wikipedia.org/wiki/Andrew_Gelman\n",
      "34  https://en.wikipedia.org/wiki/Columbia_University\n",
      "35         https://en.wikipedia.org/wiki/David_Donoho\n",
      "36           https://en.wikipedia.org/wiki/John_Tukey\n",
      "37         https://en.wikipedia.org/wiki/C.F._Jeff_Wu\n",
      "38         https://en.wikipedia.org/wiki/Data_Science\n",
      "39  https://en.wikipedia.org/wiki/Montpellier_2_Un...\n",
      "40           https://en.wikipedia.org/wiki/Peter_Naur\n",
      "41         https://en.wikipedia.org/wiki/C.F._Jeff_Wu\n",
      "42  https://en.wikipedia.org/wiki/William_S._Cleve...\n",
      "43  https://en.wikipedia.org/wiki/Committee_on_Dat...\n",
      "44  https://en.wikipedia.org/wiki/American_Statist...\n",
      "45             https://en.wikipedia.org/wiki/DJ_Patil\n",
      "46    https://en.wikipedia.org/wiki/Jeff_Hammerbacher\n",
      "47  https://en.wikipedia.org/wiki/National_Science...\n"
     ]
    }
   ],
   "source": [
    "thelist=[]\n",
    "for x in atags:\n",
    "    for y in x:\n",
    "        if x.get('href')[0:6]=='/wiki/':\n",
    "            thelist.append('https://en.wikipedia.org' + x.get('href'))\n",
    "list=pd.DataFrame(thelist)\n",
    "print(list)"
   ]
  },
  {
   "cell_type": "code",
   "execution_count": null,
   "metadata": {},
   "outputs": [],
   "source": []
  },
  {
   "cell_type": "code",
   "execution_count": null,
   "metadata": {},
   "outputs": [],
   "source": []
  }
 ],
 "metadata": {
  "colab": {
   "name": "hw2soln.ipynb",
   "provenance": []
  },
  "kernelspec": {
   "display_name": "Python 3",
   "language": "python",
   "name": "python3"
  },
  "language_info": {
   "codemirror_mode": {
    "name": "ipython",
    "version": 3
   },
   "file_extension": ".py",
   "mimetype": "text/x-python",
   "name": "python",
   "nbconvert_exporter": "python",
   "pygments_lexer": "ipython3",
   "version": "3.8.3"
  }
 },
 "nbformat": 4,
 "nbformat_minor": 4
}
