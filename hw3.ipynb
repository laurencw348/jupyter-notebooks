{
 "cells": [
  {
   "cell_type": "markdown",
   "metadata": {},
   "source": [
    "# INFO 2950 Homework 3"
   ]
  },
  {
   "cell_type": "markdown",
   "metadata": {
    "narrative": true
   },
   "source": [
    "So far, we've been looking within one variable at a time: population, avocado price, etc. In this homework, we're going to start looking at ways of quantifying the relationship *between* two variables.\n",
    "\n",
    "**No problem in this homework will involve `for` loops. Use only methods that operate on pandas DataFrames or Series.** (Series are one-dimensional arrays and often how DataFrame columns are represented when extracted.) These custom methods are written to operate efficiently on pandas objects, and are generally more computationally efficient than `for` loops."
   ]
  },
  {
   "cell_type": "markdown",
   "metadata": {
    "narrative": true
   },
   "source": [
    "## Part 1: Discussion exercises\n",
    "\n",
    "### Python Functions\n",
    "\n",
    "A Python function is a set of pre-defined code which is programmed for a certain purpose. To decrease code repetition (especially copy and pasting, which can introduce unwanted bugs), we write functions to perform repeated tasks. You can input data and other arguments (usually called \"parameters\") into a function. A function will perform its internal code and can (optionally) output objects using a `return` statement. A function will only execute when it's explicitly called. Indents in the function definiton are essential.\n",
    "\n",
    "Here is an example of a simple function that prints the variable passed in the first (and only) parameter (called `print_content` locally, within the function definition)."
   ]
  },
  {
   "cell_type": "code",
   "execution_count": 1,
   "metadata": {
    "narrative": true
   },
   "outputs": [
    {
     "name": "stdout",
     "output_type": "stream",
     "text": [
      "Homework 3\n"
     ]
    }
   ],
   "source": [
    "def print_sth(print_content):\n",
    "    '''\n",
    "    param print_content: a string parameter. This is what you want to print\n",
    "    '''\n",
    "    print(print_content)\n",
    "    \n",
    "print_sth(\"Homework 3\")    "
   ]
  },
  {
   "cell_type": "markdown",
   "metadata": {},
   "source": [
    "While this function prints a statement, it doesn't actually return anything:"
   ]
  },
  {
   "cell_type": "code",
   "execution_count": 2,
   "metadata": {},
   "outputs": [
    {
     "name": "stdout",
     "output_type": "stream",
     "text": [
      "test\n",
      "type returned: <class 'NoneType'>\n"
     ]
    }
   ],
   "source": [
    "print(\"type returned: \" + str(type(print_sth(\"test\"))))"
   ]
  },
  {
   "cell_type": "markdown",
   "metadata": {},
   "source": [
    "The comment (between the `'''` symbols) in the function defintion tells the user what the parameter `print_content` should be. This syntax can automatically generate documentation for your own functions. It is very important to document any code you bother spending time to convert to a function, because you may want to use it again or share your code with others. It's helpful to write notes about how the function can be used and what it does.\n",
    "\n",
    "Here is another function: this one takes *two* arguments and actually returns an object, all of which is documented in the comment at the top of the function definition. "
   ]
  },
  {
   "cell_type": "code",
   "execution_count": 3,
   "metadata": {},
   "outputs": [
    {
     "name": "stdout",
     "output_type": "stream",
     "text": [
      "INFO2950\n",
      "type returned: <class 'str'>\n"
     ]
    }
   ],
   "source": [
    "def course(dept,classcode):\n",
    "    '''\n",
    "    param dept: a string. It's the department code. \n",
    "    param classcode: an integer. It's the course number\n",
    "    return: a string value which combines both department code and course number\n",
    "    '''\n",
    "    return dept+str(classcode)\n",
    "\n",
    "output = course(\"INFO\",2950)\n",
    "print(output)\n",
    "print(\"type returned: \" + str(type(output)))"
   ]
  },
  {
   "cell_type": "markdown",
   "metadata": {},
   "source": [
    "### String formatting\n",
    "\n",
    "We often want to construct and print strings that include the values of calculated variables; it's good practice to add context to any values you print in your notebooks, so others reading them know what the number you're printing is. For instance, it's clearer to print `mean price: $27.80` instead of just `27.8`.\n",
    "    \n",
    "You can concatenate strings with the `+` operator, but you can't merge a string and a number without doing some type conversion (like we did above with `str(type(output))`). Sometimes there are multiple ways to display a variable, such as a float with either 2 or 3 decimal places. All strings have a function `.format()` that allows you to construct strings with placeholders where variables get inserted and to specify how the variables should appear.\n",
    "\n",
    "We start by creating a string *template* (as a string). We insert placeholders `{}` into the string template where we want variable values to appear. Then for each of these placeholds, we include corresponding variable as an argument to `.format()` (in the desired order of appearance in the string template). For each of these values, Python will convert the value to a string and insert it in the corresponding placeholder. You can also specify how you want a value to appear. To format a value as a 4-digit decimal integer with leading zeros, use `{:04d}`. To round a float to two decimal places, use `{:.2f}`. See [the documentation](https://docs.python.org/3.8/library/string.html#formatspec) for other options.\n",
    "\n",
    "Python also supports an older string format style using the `%` operator, which we prefer you do *not* use. There is also a newer method called f-strings that you may use. You may be familiar with `.format()` in the context of `print()` statements, but it's really a function of strings, not printing strings."
   ]
  },
  {
   "cell_type": "code",
   "execution_count": 4,
   "metadata": {},
   "outputs": [
    {
     "data": {
      "text/plain": [
       "'this is my favorite string'"
      ]
     },
     "execution_count": 4,
     "metadata": {},
     "output_type": "execute_result"
    }
   ],
   "source": [
    "\"this is my {} string\".format(\"favorite\")"
   ]
  },
  {
   "cell_type": "code",
   "execution_count": 5,
   "metadata": {},
   "outputs": [
    {
     "data": {
      "text/plain": [
       "'The letter M has Unicode codepoint 77 (as an integer), which is 4d in hexadecimal and 01001101 in binary'"
      ]
     },
     "execution_count": 5,
     "metadata": {},
     "output_type": "execute_result"
    }
   ],
   "source": [
    "\"The letter {} has Unicode codepoint {:d} (as an integer), which is {:x} in hexadecimal and {:08b} in binary\".format(\"M\", ord(\"M\"), ord(\"M\"), ord(\"M\"))"
   ]
  },
  {
   "cell_type": "markdown",
   "metadata": {
    "narrative": true
   },
   "source": [
    "### Correlation and Causation\n",
    "\n",
    "We often want to measure the relationship between two variables because we want to know whether the value of one factor *causes* another factor to have a certain value. Usually this is interesting because there may be one factor we care about but cannot directly control, and another factor that we can control, but we don't necessarily care about in and of itself. For example, I don't care about the number on my thermostat for itself, I care about it because it has a causal effect on the temperature in the house.\n",
    "\n",
    "**1. Describe a situation where one factor, which we can observe and control, influences the value of another factor. Without using specific quantitative measurements, describe how strong you consider this relationship to be.**\n",
    "\n",
    "**2. Describe a situation where one factor does not *influence* another factor, but nevertheless allows you to *predict* the value of that second factor. What would you need to do to distinguish between this situation and the previous situation?**\n",
    "\n",
    "Correlation does not necessarily imply causation. Most of the statistical methods we will study can only show correlation, though there exist careful experimental designs that can enable [causal inference](https://en.wikipedia.org/wiki/Causal_inference). \n",
    "\n",
    "### Beyond Correlation/Causation\n",
    "\n",
    "You may be familiar with the previous discussion. In fact, mean, variance, and \"correlation is not causation\" is about the only thing that we can reliably assume that everyone learns in a statistics class. But there's another problem that we face, which can be subtler and more dangerous.\n",
    "\n",
    "Consider a system that predicts creditworthiness. The rows in the data table will correspond to people, and it is extremely easy to think of what you are doing as classifying *people* as creditworthy or not. But, as Princeton sociologist Ruha Benjamin [has pointed out](https://www.goodreads.com/en/book/show/42527493-race-after-technology), almost all of the actual variables are describing a person's *situation*. Sometimes situations can change quickly, as we all saw repeatedly over the last year, and sometimes they can be nearly impossible to escape. \n",
    "\n",
    "**3. The dataset we will look at in this homework is about the educational achievements of kindergarterners. It includes demographic information, as you can see from the data description file (**`Data description ECLS_R7.pdf`**). What do you think that you should be able to say about these children based on these measurements, and what can you not say?**\n"
   ]
  },
  {
   "cell_type": "markdown",
   "metadata": {
    "problem": 1
   },
   "source": [
    "---\n",
    "\n",
    "## Problem 1 (9 pts)\n",
    "\n",
    "Write down your thoughts about the three discussion questions. Ensure your answer is moderately detailed to get full marks.\n",
    "\n",
    "---"
   ]
  },
  {
   "cell_type": "markdown",
   "metadata": {},
   "source": [
    "\n",
    "\n",
    "1. Average number of calories consumed per day influences change in weight. The amount of calories consumed is a factor that we can both observe and control.  More specifically, the more calories an individual consumes per day, the higher their weight will be. This relationship is strong, because comsuimg more calories causes weight gain, absent of exercise. However, there are other factoes that might also influence weight, such as the amount of exercise and an individuals metabolic rate. However, it is still the case that the amount of calories calories consumsed directly influences weight. "
   ]
  },
  {
   "cell_type": "markdown",
   "metadata": {},
   "source": [
    "\n",
    "\n",
    "2. A student's SAT scores and the ranking of the university they are accepted into. More specifically, if a student obtains a higher SAT score, they are more likely to be accepted into a higher ranked university. We can therefore predict that if a student gets a perfect score, they will be accepted into a top ranked university. However, we cannot say that a high SAT score *causes* an individual to get into the top ranked university, because there are several other confounding factors that influence university admission, especially for the top ranked colleges. While in the previous situation, calories consumed directly causes changes in weight, a higher SAT score does not directly cause one to get into a higher ranked university. The two variables in this situation are merely correlated. "
   ]
  },
  {
   "cell_type": "markdown",
   "metadata": {},
   "source": [
    "3. Generally, we can only make inferences about the performance of these kindergarteners at the time these measurements were taken. We can, for instance, make comparisons between an individual kindergartener's math and science score, and look for correlations. We cannot, however, infer that there is any causal relationships between certain variables. This is because bias' may exist in the data set for some of the variables. For instance, a teacher may be biased towards a student, leading to an inaccurate classroom positive behavior score."
   ]
  },
  {
   "cell_type": "markdown",
   "metadata": {
    "narrative": true
   },
   "source": [
    "## Part 2: Correlation and Covariance\n",
    "We will investigate data collected as part of the Early Childhood Longitudinal Studies program, which seeks to understand childhood development from birth through elementary school in the United States. The main dataset we will work with quantifies [the development of kindergarteners in 2010-2011](https://nces.ed.gov/ecls/kindergarten2011.asp) and is provided as `ECLS_R7.csv`. You may find it helpful to refer to the data description file (also sometimes referred to as a \"codebook\"), `Data description ECLS_R7.pdf`, which defines the variables in the data. While there is a lot of of information in this file, we will only explore a few variables in this homework."
   ]
  },
  {
   "cell_type": "code",
   "execution_count": 6,
   "metadata": {
    "narrative": true
   },
   "outputs": [],
   "source": [
    "## load libraries\n",
    "import pandas as pd\n",
    "import numpy as np\n",
    "import matplotlib.pyplot as plt\n",
    "from scipy import stats\n",
    "\n",
    "## load data\n",
    "education_data = pd.read_csv(\"ECLS_R7.csv\")"
   ]
  },
  {
   "cell_type": "markdown",
   "metadata": {
    "problem": 2
   },
   "source": [
    "---\n",
    "\n",
    "## Problem 2 (4 pts)\n",
    "What does the variable `X7RTHETK4` measure? Calculate and print the mean and median of this variable. (make sure to use .format() to round all printed floats to two decimal places)\n",
    "\n",
    "**Hint:** We will use the columns `X7MTHETK4`, `X7STHETK4`,  `X7RTHETK4`,`PARENTINV` throughout this homework. You may find it helpful to rename these columns now (e.g. using the [`.rename()`](https://pandas.pydata.org/pandas-docs/stable/reference/api/pandas.DataFrame.rename.html) dataframe method).\n",
    "\n",
    "---"
   ]
  },
  {
   "cell_type": "markdown",
   "metadata": {},
   "source": [
    "Your answer: "
   ]
  },
  {
   "cell_type": "code",
   "execution_count": 7,
   "metadata": {},
   "outputs": [],
   "source": [
    "education_data=education_data.rename(columns={'X7RTHETK4':'reaching', 'X7MTHETK4': 'math','X7STHETK4':'science','PARENTINV': 'parents'})"
   ]
  },
  {
   "cell_type": "code",
   "execution_count": 8,
   "metadata": {},
   "outputs": [
    {
     "name": "stdout",
     "output_type": "stream",
     "text": [
      "X7RTHETK4 is reaching IRT theta score, mean of 2.69 and median of 2.71 \n"
     ]
    }
   ],
   "source": [
    "print('X7RTHETK4 is reaching IRT theta score, mean of {:.2f} and median of {:.2f} '.format(education_data['reaching'].mean(), education_data['reaching'].median()))\n",
    "\n",
    "\n",
    "\n",
    "\n"
   ]
  },
  {
   "cell_type": "markdown",
   "metadata": {
    "problem": 3
   },
   "source": [
    "---\n",
    "\n",
    "## Problem 3 (4 pts)\n",
    "\n",
    "Calculate and print the 1st quartile and the 95th precentile of the math score (original column name: `X7MTHETK4`) using the [.quantile()](https://pandas.pydata.org/pandas-docs/stable/reference/api/pandas.Series.quantile.html) Series method. How are quartiles and percentiles related?\n",
    "\n",
    "\n",
    "**Hint:** What are [\"quantiles\", \"quartiles\", and \"percentiles\"](https://www.statsdirect.com/help/nonparametric_methods/quantiles.htm#:~:text=Quantiles%20are%20points%20in%20a,of%20values%20in%20that%20distribution.&text=Centiles%2Fpercentiles%20are%20descriptions%20of,sorted%20values%20of%20a%20sample)?\n",
    "\n",
    "---"
   ]
  },
  {
   "cell_type": "code",
   "execution_count": 9,
   "metadata": {},
   "outputs": [
    {
     "name": "stdout",
     "output_type": "stream",
     "text": [
      "1st quartile: 2.69\n",
      "95th percentile: 4.18\n"
     ]
    }
   ],
   "source": [
    "first=education_data['math'].quantile(q=0.25)\n",
    "second=education_data['math'].quantile(q=0.95)\n",
    "#print(\"first quartile: {:.2f}\".format(first))\n",
    "print(\"1st quartile: {:.2f}\".format(first))\n",
    "print(\"95th percentile: {:.2f}\".format(second))"
   ]
  },
  {
   "cell_type": "markdown",
   "metadata": {},
   "source": [
    "A percentile used to measure the percentage of the total values are the same as or below that measure. For instance, 75% of the data lies below the 75th percentile. While percentiles essentially split the data into 100 equal parts, quartiles split it into 4 equal parts. where each group contains an equal number of observations. Therefore, the 75th percentile is equal to the upper/third quartile.\n"
   ]
  },
  {
   "cell_type": "markdown",
   "metadata": {
    "problem": 4
   },
   "source": [
    "---\n",
    "## Problem 4 (2 pts)\n",
    "\n",
    "Calculate and print the mean and standard deviation of the students' science scores (original column name: `X7STHETK4`).Save these two values to Python variables (you will find these variables useful in the next problem)."
   ]
  },
  {
   "cell_type": "code",
   "execution_count": 10,
   "metadata": {},
   "outputs": [
    {
     "name": "stdout",
     "output_type": "stream",
     "text": [
      "Mean of science scores: 2.29\n",
      "Standard deviation of science scores: 0.75\n"
     ]
    }
   ],
   "source": [
    "mean_science=education_data['science'].mean()\n",
    "std_science=education_data['science'].std()\n",
    "#print(\"first quartile: {:.2f}\".format(first))\n",
    "print(\"Mean of science scores: {:.2f}\".format(mean_science))\n",
    "print(\"Standard deviation of science scores: {:.2f}\".format(std_science))"
   ]
  },
  {
   "cell_type": "markdown",
   "metadata": {
    "problem": 5
   },
   "source": [
    "---\n",
    "\n",
    "## Problem 5 (10 pts)\n",
    "\n",
    "Suppose we want to count the number of observations when a variable is in a given range. Write a [Python function](https://www.w3schools.com/python/python_functions.asp) `count_within_range(sub_data, lower, upper)` that takes three arguments, the subset data for calculation (as a Pandas Series), and the lower and upper bounds (as numbers).\n",
    "\n",
    "In the body of your function:\n",
    "1. use the [`.between()`](https://pandas.pydata.org/pandas-docs/stable/reference/api/pandas.Series.between.html) subsetting method to select the observations in the given range\n",
    "2. calculate and print the **minimum** and **maximum** values of the range, **the count of observations** within the range, and **the percentage (%) of all observations** that are found in the range.\n",
    "\n",
    "The function should not return anything. And be sure to label each printed number and use [`.format()`](https://mkaz.blog/code/python-string-format-cookbook/) to round all printed floats to two decimal places (integers should have zero decimal places). \n",
    "\n",
    "Call this function for the science score values with the following ranges:\n",
    "\n",
    "* *one standard deviation below the mean* to *the mean*\n",
    "* *the mean* to *one standard deviation above the mean*\n",
    "\n",
    "Based on these results, do you think the distribution of this variable is *symmetric*? Explain.\n",
    "\n",
    "---"
   ]
  },
  {
   "cell_type": "code",
   "execution_count": 11,
   "metadata": {},
   "outputs": [],
   "source": [
    "def count_within_range(sub_data, lower, upper):\n",
    "    inbetween=sub_data.between(lower, upper)\n",
    "    select=sub_data.index[inbetween==True]\n",
    "    print(\"Minimum value is {:.2f}\".format(sub_data[select].min()))\n",
    "    print(\"Maximum value is {:.2f}\".format(sub_data[select].max()))\n",
    "    print(\"The count of observations within the range is {}\". format(len(sub_data[select])))\n",
    "    print(\"The percentage of all observations in this range is {:.2f} %\". format(len(sub_data[select])/sub_data.count() * 100))\n",
    "\n",
    "    \n"
   ]
  },
  {
   "cell_type": "code",
   "execution_count": 12,
   "metadata": {
    "scrolled": true
   },
   "outputs": [
    {
     "name": "stdout",
     "output_type": "stream",
     "text": [
      "Minimum value is 1.55\n",
      "Maximum value is 2.29\n",
      "The count of observations within the range is 1222\n",
      "The percentage of all observations in this range is 26.81 %\n",
      "Minimum value is 2.30\n",
      "Maximum value is 3.04\n",
      "The count of observations within the range is 1966\n",
      "The percentage of all observations in this range is 43.13 %\n"
     ]
    }
   ],
   "source": [
    "count_within_range(education_data['science'], mean_science-std_science,mean_science)\n",
    "count_within_range(education_data['science'], mean_science , mean_science+std_science)\n"
   ]
  },
  {
   "cell_type": "code",
   "execution_count": null,
   "metadata": {},
   "outputs": [],
   "source": []
  },
  {
   "cell_type": "markdown",
   "metadata": {},
   "source": [
    "The distribution of this variable is not symmetric, since only 26% of the data is below the mean. If it was symmetric, around 50% should be above the mean and 50% below the mean. "
   ]
  },
  {
   "cell_type": "markdown",
   "metadata": {
    "problem": 6
   },
   "source": [
    "---\n",
    "\n",
    "## Problem 6 (4 pts)\n",
    "\n",
    "Make a scatter plot [with matplotlib](https://matplotlib.org/stable/api/_as_gen/matplotlib.pyplot.scatter.html) to show the distribution of data points in two dimensions (variables): reading score on the x-axis and and science score on the y-axis. Make sure to set the parameter `alpha` as 0.3 in `.scatter()` to control the dot opacity, and set the axis labels as *Reaching Score* and *Science Score*.\n",
    "\n",
    "Describe the trend in the relationship between these two variables, as revealed by the scatterplot.\n",
    "\n",
    "---"
   ]
  },
  {
   "cell_type": "code",
   "execution_count": 13,
   "metadata": {},
   "outputs": [
    {
     "data": {
      "text/plain": [
       "<function matplotlib.pyplot.show(*args, **kw)>"
      ]
     },
     "execution_count": 13,
     "metadata": {},
     "output_type": "execute_result"
    },
    {
     "data": {
      "image/png": "[encoded data removed]",
      "text/plain": [
       "<Figure size 432x288 with 1 Axes>"
      ]
     },
     "metadata": {
      "needs_background": "light"
     },
     "output_type": "display_data"
    }
   ],
   "source": [
    "plt.scatter(x=education_data[\"reaching\"],y=education_data[\"science\"], alpha=0.3)\n",
    "plt.xlabel('Reaching Score')\n",
    "plt.ylabel('Science Score')\n",
    "plt.show"
   ]
  },
  {
   "cell_type": "markdown",
   "metadata": {},
   "source": [
    "Your answer: The scatter plot shows that there is a positive correlation between reaching score and science score. More specifically, a higher reaching score is associated with a higher science score."
   ]
  },
  {
   "cell_type": "markdown",
   "metadata": {
    "problem": 7
   },
   "source": [
    "---\n",
    "\n",
    "## Problem 7 (6 pts)\n",
    "\n",
    "Measure the strength of the association observed in the scatterplot from the previous problem by calculating and printing the **covariance** and (Pearson) **correlation** between the reaching and science scores. Use the [`.cov()`](https://pandas.pydata.org/pandas-docs/stable/reference/api/pandas.Series.cov.html) and [`.corr()`](https://pandas.pydata.org/pandas-docs/stable/reference/api/pandas.Series.corr.html) pandas Series methods.\n",
    "\n",
    "Create two new Series:\n",
    "* `reaching_times_ten` = the reaching score column times 10,\n",
    "* `science_times_ten` = the science score column times 10.\n",
    "\n",
    "Calculate and print the covariance and correlation between these two new series and describe the effect of scaling the original data by 10 on the covariance and correlation.\n",
    "\n",
    "---"
   ]
  },
  {
   "cell_type": "code",
   "execution_count": 14,
   "metadata": {},
   "outputs": [
    {
     "name": "stdout",
     "output_type": "stream",
     "text": [
      "The covariation between reaching and science scores is 0.35\n",
      "The correlation between reaching and science scores is 0.73\n"
     ]
    }
   ],
   "source": [
    "covar=education_data[\"reaching\"].cov(education_data[\"science\"])\n",
    "correlation=education_data[\"reaching\"].corr(education_data[\"science\"])\n",
    "print(\"The covariation between reaching and science scores is {:.2f}\".format(covar))\n",
    "print(\"The correlation between reaching and science scores is {:.2f}\".format(correlation))"
   ]
  },
  {
   "cell_type": "code",
   "execution_count": 15,
   "metadata": {},
   "outputs": [
    {
     "name": "stdout",
     "output_type": "stream",
     "text": [
      "The new covariance between reaching and sciences scores is 34.77\n",
      "The new correlation between reaching and sciences scores is 0.73\n"
     ]
    }
   ],
   "source": [
    "reaching_times_ten= education_data[\"reaching\"] * 10\n",
    "science_times_ten=education_data[\"science\"]* 10 \n",
    "\n",
    "covar1=reaching_times_ten.cov(science_times_ten)\n",
    "correlation1=reaching_times_ten.corr(science_times_ten)\n",
    "print(\"The new covariance between reaching and sciences scores is {:.2f}\".format(covar1))\n",
    "print(\"The new correlation between reaching and sciences scores is {:.2f}\".format(correlation1))"
   ]
  },
  {
   "cell_type": "markdown",
   "metadata": {},
   "source": [
    "When we scaled the original data by 10, the covariance was also multiplied 100, while the correlation between the two variables remained unchanged, because the strength of the relationship between the two variables does not change."
   ]
  },
  {
   "cell_type": "markdown",
   "metadata": {
    "problem": 8
   },
   "source": [
    "---\n",
    "\n",
    "## Problem 8 (6 pts)\n",
    "\n",
    "Calculate and print the mean and standard deviation of the math and science scores. Save these values to Python variables.\n",
    "\n",
    "Select the students whose **science score** is between its mean and one standard deviation above the mean. Calculate and print the mean and the standard deviation of the **math scores** for this subset of students.\n",
    "\n",
    "For the math scores, how do the mean and standard deviation change when we go from looking at all students in the dataset to just those with a science score within one standard deviation above its mean? How does your observation relate to the correlation score between these two variables?\n",
    "\n",
    "---"
   ]
  },
  {
   "cell_type": "code",
   "execution_count": 16,
   "metadata": {},
   "outputs": [
    {
     "name": "stdout",
     "output_type": "stream",
     "text": [
      "The mean math score is 3.16\n",
      "The standard deviation of the math scores is 0.73\n",
      "\n",
      "\n",
      "The mean science score is 2.29\n",
      "The standard deviation of the science scores is 0.75\n"
     ]
    }
   ],
   "source": [
    "meanmath=education_data[\"math\"].mean()\n",
    "mathstd=education_data[\"math\"].std()\n",
    "meanscience=education_data[\"science\"].mean()\n",
    "sciencestd=education_data[\"science\"].std()\n",
    "print(\"The mean math score is {:.2f}\".format(meanmath))\n",
    "print(\"The standard deviation of the math scores is {:.2f}\".format(mathstd))\n",
    "print('\\n')\n",
    "print(\"The mean science score is {:.2f}\".format(meanscience))\n",
    "print(\"The standard deviation of the science scores is {:.2f}\".format(sciencestd))\n",
    "\n",
    "\n"
   ]
  },
  {
   "cell_type": "markdown",
   "metadata": {},
   "source": [
    "Your answer:"
   ]
  },
  {
   "cell_type": "code",
   "execution_count": 17,
   "metadata": {},
   "outputs": [
    {
     "name": "stdout",
     "output_type": "stream",
     "text": [
      "The mean math score for this subset is is 3.42\n",
      "The standard deviation of the math scores for this subset is is 0.49\n"
     ]
    }
   ],
   "source": [
    "above_mean=meanscience+sciencestd\n",
    "subset1=education_data[\"science\"].between(meanscience,above_mean)\n",
    "subset_for_math=education_data.math[subset1]\n",
    "math_subset_mean= subset_for_math.mean()\n",
    "math_subset_std= subset_for_math.std()\n",
    "\n",
    "print(\"The mean math score for this subset is is {:.2f}\".format(math_subset_mean))\n",
    "print(\"The standard deviation of the math scores for this subset is is {:.2f}\".format(math_subset_std))"
   ]
  },
  {
   "cell_type": "code",
   "execution_count": 18,
   "metadata": {},
   "outputs": [
    {
     "name": "stdout",
     "output_type": "stream",
     "text": [
      "The correlation bertween math and science scores is 0.71\n"
     ]
    }
   ],
   "source": [
    "correlation1=education_data[\"math\"].corr(education_data[\"science\"])\n",
    "print(\"The correlation berween math and science scores is {:.2f}\".format(correlation1))\n"
   ]
  },
  {
   "cell_type": "markdown",
   "metadata": {},
   "source": [
    "By subsetting the data such that we only include the students whose science scores are one standard deviation above the mean, the mean math scores have increased  from 3.16 to 3.42. The standard deviation decreased from 0.73 to 0.49. The correlation between these two variables is 0.71, suggesting a moderately strong correlation between the two variables. It therefore makes sense that when we looked at students whose science scores were higher than the average,  the corresponding math scores would also be higher and that the spread from the mean would be lower."
   ]
  },
  {
   "cell_type": "markdown",
   "metadata": {
    "problem": 9
   },
   "source": [
    "---\n",
    "\n",
    "## Problem 9 (9 pts)\n",
    "\n",
    "Group the data by school (indicated in the ID column `'S7_ID'`) and calculate the mean math and reaching scores for each school. Subset the data, keeping only school whose average math *and* reaching scores are both strictly greater than 2. Save this dataframe as a variable called `school_mean_subset`. Print the number of rows in `school_mean_subset`.\n",
    "\n",
    "**Hint:** When subsetting the mean reaching and reaching scores by school to satisfy two  conditions, there are [several ways to accomplish this task](https://kanoki.org/2020/01/21/pandas-dataframe-filter-with-multiple-conditions/). Pick your favorite. And [`.reset_index()`](https://pandas.pydata.org/pandas-docs/stable/reference/api/pandas.DataFrame.reset_index.html) is a method you may need if you want to reset the index column of a groupby result.\n",
    "\n",
    "**Confidence check:** You should have 911 schools whose math and reaching scores are both  strictly greater than 2.\n",
    "\n",
    "Calculate and print the standard (Pearson) correlation and the rank (Spearman) correlation between the math and science scores in the subset data. The [`.corr()`](https://pandas.pydata.org/pandas-docs/stable/reference/api/pandas.Series.corr.html) computes the Pearson correlation by default, but you can get the Sperman correlation by explicitly specifying the `method` parameter (check the docs).\n",
    "\n",
    "Make a scatterplot with the average math scores on the x-axis, and the average reaching scores on the y-axis. Discuss any patterns you see in the scatterplot, and connect your observations to the two correlation scores.\n",
    "\n",
    "---"
   ]
  },
  {
   "cell_type": "code",
   "execution_count": 19,
   "metadata": {},
   "outputs": [
    {
     "name": "stdout",
     "output_type": "stream",
     "text": [
      "911\n"
     ]
    },
    {
     "data": {
      "text/plain": [
       "pandas.core.groupby.generic.DataFrameGroupBy"
      ]
     },
     "execution_count": 19,
     "metadata": {},
     "output_type": "execute_result"
    }
   ],
   "source": [
    "grouped_school=education_data.groupby(\"S7_ID\").mean()\n",
    "school_mean_subset=grouped_school.loc[(grouped_school['reaching']>2) & (grouped_school['math']>2)]\n",
    "print(school_mean_subset.shape[0])\n",
    "type(education_data.groupby(\"S7_ID\"))"
   ]
  },
  {
   "cell_type": "code",
   "execution_count": 20,
   "metadata": {},
   "outputs": [
    {
     "name": "stdout",
     "output_type": "stream",
     "text": [
      "The Pearson correlation between reaching and math scores in the subset data is 0.68\n",
      "The Spearman correlation between reaching and math scores in the subset data is 0.69\n"
     ]
    }
   ],
   "source": [
    "pearsons=school_mean_subset[\"reaching\"].corr(school_mean_subset[\"math\"])\n",
    "print(\"The Pearson correlation between reaching and math scores in the subset data is {:.2f}\".format(pearsons))\n",
    "\n",
    "spearmans=school_mean_subset[\"reaching\"].corr(school_mean_subset[\"math\"], method='spearman')\n",
    "print(\"The Spearman correlation between reaching and math scores in the subset data is {:.2f}\".format(spearmans))\n",
    "\n"
   ]
  },
  {
   "cell_type": "code",
   "execution_count": 45,
   "metadata": {},
   "outputs": [
    {
     "data": {
      "text/plain": [
       "<function matplotlib.pyplot.show(*args, **kw)>"
      ]
     },
     "execution_count": 45,
     "metadata": {},
     "output_type": "execute_result"
    },
    {
     "data": {
      "image/png": "[encoded data removed]",
      "text/plain": [
       "<Figure size 432x288 with 1 Axes>"
      ]
     },
     "metadata": {
      "needs_background": "light"
     },
     "output_type": "display_data"
    }
   ],
   "source": [
    "plt.scatter(x=school_mean_subset[\"math\"],y=school_mean_subset[\"reaching\"])\n",
    "plt.xlabel('Average Math Score')\n",
    "plt.ylabel('Average Reaching Score')\n",
    "plt.title('Scatter Plot of Average Math Score and Average Reaching Score')\n",
    "plt.show"
   ]
  },
  {
   "cell_type": "markdown",
   "metadata": {},
   "source": [
    "From the scatter plot, there appears to be a moderately strong relationship between math and reaching score. In other words, a higher math score is correlated with a higher reaching score."
   ]
  },
  {
   "cell_type": "markdown",
   "metadata": {
    "problem": 10
   },
   "source": [
    "---\n",
    "\n",
    "## Problem 10 (8 pts)\n",
    "\n",
    "Use the [`.rank()`](https://pandas.pydata.org/pandas-docs/stable/reference/api/pandas.Series.rank.html) Series method to add columns called `'math_rank'` and `'reaching_rank'` to `school_mean_subset`; these columns should contain the rank of the average math and reaching scores (by school), respectively. Print the first few rows of these new columns.\n",
    "\n",
    "**Confidence check:** For the school with `S7_ID==1022`, the mean math score rank is 859 and the mean reaching score rank is 809.\n",
    "\n",
    "Calculate the Pearson and Spearman correlation between the two rank variables and make a scatterplot with `math_rank` on the x-axis and `reaching_rank` on the y-axis.\n",
    "\n",
    "Compare the correlations computed in this problem with those computed in the previous problem.\n",
    "\n",
    "---"
   ]
  },
  {
   "cell_type": "code",
   "execution_count": 22,
   "metadata": {},
   "outputs": [
    {
     "name": "stdout",
     "output_type": "stream",
     "text": [
      "            CHILDID  X_CHSEX_R       X7AGE  X7GRDLVL  X7PUBPRI  X_RACETH_R  \\\n",
      "S7_ID                                                                        \n",
      "1002   1.000654e+07   1.333333  108.341667  1.000000       1.0    2.166667   \n",
      "1003   1.000577e+07   1.833333  106.690000  1.166667       1.0    2.333333   \n",
      "1006   1.000489e+07   1.333333  106.751667  1.000000       1.0    3.000000   \n",
      "1012   1.000723e+07   1.500000  104.285000  1.000000       2.0    2.000000   \n",
      "1013   1.000499e+07   1.363636  111.102727  1.000000       1.0    2.000000   \n",
      "\n",
      "       CBEHAVE_POS  CBEHAVE_NEG  PEERVIC_T  PEERAGG_T  ...  X7TCHINT  \\\n",
      "S7_ID                                                  ...             \n",
      "1002      3.466667     2.354167   1.083333   1.083333  ...  1.416667   \n",
      "1003      3.633333     2.166667   1.375000   1.083333  ...  1.666667   \n",
      "1006      3.866667     2.083333   1.458333   1.250000  ...  1.583333   \n",
      "1012      3.100000     3.187500   2.250000   2.250000  ...  1.625000   \n",
      "1013      3.690909     2.125000   1.159091   1.386364  ...  1.356064   \n",
      "\n",
      "       X7ATTMCQ  X7INTMCQ      X7BMI   parents  EXTRACUR  PARENTDEP  P7HEALTH  \\\n",
      "S7_ID                                                                           \n",
      "1002   3.472233  3.666667  18.012133  3.666667  1.166667   1.416667  1.833333   \n",
      "1003   3.750000  3.761900  18.676233  3.500000  1.833333   1.277778  2.000000   \n",
      "1006   3.944433  3.857167  21.326300  3.000000  0.333333   1.291667  2.666667   \n",
      "1012   2.583350  3.214250  23.522550  4.000000  2.000000   1.708333  2.500000   \n",
      "1013   3.939400  3.688300  19.030955  3.363636  1.090909   1.431818  2.272727   \n",
      "\n",
      "       math_rank  reaching_rank  \n",
      "S7_ID                            \n",
      "1002       634.0          729.0  \n",
      "1003       245.0          361.0  \n",
      "1006       169.0          271.0  \n",
      "1012        22.0          184.0  \n",
      "1013       624.0          403.0  \n",
      "\n",
      "[5 rows x 29 columns]\n"
     ]
    }
   ],
   "source": [
    "subset_school=school_mean_subset.copy()\n",
    "math_rank=subset_school['math'].rank()\n",
    "reaching_rank=subset_school['reaching'].rank()\n",
    "subset_school['math_rank']=math_rank\n",
    "subset_school['reaching_rank']=reaching_rank\n",
    "school_mean_subset=subset_school\n",
    "print(school_mean_subset.head())"
   ]
  },
  {
   "cell_type": "code",
   "execution_count": 48,
   "metadata": {},
   "outputs": [
    {
     "data": {
      "text/plain": [
       "<function matplotlib.pyplot.show(*args, **kw)>"
      ]
     },
     "execution_count": 48,
     "metadata": {},
     "output_type": "execute_result"
    },
    {
     "data": {
      "image/png": "[encoded data removed]",
      "text/plain": [
       "<Figure size 432x288 with 1 Axes>"
      ]
     },
     "metadata": {
      "needs_background": "light"
     },
     "output_type": "display_data"
    }
   ],
   "source": [
    "plt.scatter(x=math_rank,y=reaching_rank, alpha=0.3)\n",
    "plt.xlabel('Math Rank')\n",
    "plt.ylabel('Reaching Rank')\n",
    "plt.title('Scatter Plot of Math Rank and Reaching Rank')\n",
    "plt.show"
   ]
  },
  {
   "cell_type": "code",
   "execution_count": 24,
   "metadata": {},
   "outputs": [
    {
     "name": "stdout",
     "output_type": "stream",
     "text": [
      "The spearman correlation between the reaching rank and the math rank is is 0.69\n",
      "The pearson correlation between the reaching rank and the math rank is is 0.69\n"
     ]
    }
   ],
   "source": [
    "spearman2=reaching_rank.corr(math_rank, method='spearman')\n",
    "print(\"The spearman correlation between the reaching rank and the math rank is is {:.2f}\".format(spearman2))\n",
    "pearson2=reaching_rank.corr(math_rank, method='pearson')\n",
    "print(\"The pearson correlation between the reaching rank and the math rank is is {:.2f}\".format(pearson2))"
   ]
  },
  {
   "cell_type": "markdown",
   "metadata": {},
   "source": [
    "Both the spearman and the pearson correlation values computed for the ranked reaching and math scores are very similar to the correlations computed in the previous problem. The pearsons correlation increased by an insignificant amount, and the spearmans correlation remained the same."
   ]
  },
  {
   "cell_type": "markdown",
   "metadata": {
    "problem": 11
   },
   "source": [
    "---\n",
    "\n",
    "## Problem 11 (8 pts) \n",
    "\n",
    "`PARENTINV` represents whether or not parents attend school events. Calucate the mean score of math,science,reaching score,then compare the difference between scores according the `PARENTINV`. Make a boxplot with the average scores on the y-axis, and the `PARENTINV`  on the x-axis. Discuss any patterns you see in the boxplot.\n",
    "\n",
    "[A **t-test** is a statistical test that is used to compare the means of two groups](https://www.statisticshowto.com/probability-and-statistics/t-test/). The t test tells you how **significant** the differences between groups are. It has been used widely in hypothesis testing to determine whether a process or treatment actually has an effect on the population of interest, or whether two groups are different from one another. Every t-value has a **p-value** to go with it. A p-value is the probability that the results from your sample data occurred by chance. P-values are from 0% to 100%. They are usually written as a decimal. For example, a p value of 5% is 0.05. **Low p-values are good**; They indicate your data did not occur by chance. Now we perform the math score for parent event that is above 3 and below 3. Explain your result.\n",
    "\n",
    "---\n"
   ]
  },
  {
   "cell_type": "code",
   "execution_count": 42,
   "metadata": {},
   "outputs": [
    {
     "data": {
      "text/plain": [
       "<matplotlib.axes._subplots.AxesSubplot at 0x7fca9280a280>"
      ]
     },
     "metadata": {},
     "output_type": "display_data"
    },
    {
     "data": {
      "image/png": "[encoded data removed]",
      "text/plain": [
       "<Figure size 432x288 with 1 Axes>"
      ]
     },
     "metadata": {
      "needs_background": "light"
     },
     "output_type": "display_data"
    }
   ],
   "source": [
    "education_data['mean_score']=education_data[['math', 'science', 'reaching']].mean(axis=1)\n",
    "plot=education_data.boxplot('mean_score', by='parents')\n",
    "plt.xlabel('Parents Attending School Events')\n",
    "plt.ylabel('Mean Score')\n",
    "plt.title('Average score by Parents Attending School Events')\n",
    "\n",
    "display(plot)"
   ]
  },
  {
   "cell_type": "markdown",
   "metadata": {},
   "source": [
    "From the boxplot, we can see a trend where a higher PARENTINV score is associated with a higher mean score. Another trend we can also see is that as the PARENTINV score increases, the number of outliers also increases."
   ]
  },
  {
   "cell_type": "code",
   "execution_count": 49,
   "metadata": {},
   "outputs": [
    {
     "name": "stdout",
     "output_type": "stream",
     "text": [
      "Ttest_indResult(statistic=11.162581950253115, pvalue=1.4545621449521393e-28)\n"
     ]
    }
   ],
   "source": [
    "parent_subset1=education_data.loc[(education_data['parents']>=3)]\n",
    "parent_subset2=education_data.loc[(education_data['parents']<3)]\n",
    "\n",
    "\n",
    "print(stats.ttest_ind(parent_subset1['math'], parent_subset2['math']))\n",
    "\n"
   ]
  },
  {
   "cell_type": "markdown",
   "metadata": {},
   "source": [
    "The null hypothesis for this test is that there is no significant difference between the mean math score for parent event that is above 3 and parent event that is below 3.The alternative hypothesis is that there is a significant difference between the math scores.\n",
    "The p value for this T-Test is 1.45e-28. This is a very low P value, which suggests that our data did not occur by chance and there is enough evidence to reject the null hypothesis. I can therefore conclude that there is a significant difference between the math scores of student's parents who attend 3 or more school events, and the math scores of students whose parents attend less than 3 school events."
   ]
  },
  {
   "cell_type": "code",
   "execution_count": null,
   "metadata": {},
   "outputs": [],
   "source": []
  }
 ],
 "metadata": {
  "kernelspec": {
   "display_name": "Python 3",
   "language": "python",
   "name": "python3"
  },
  "language_info": {
   "codemirror_mode": {
    "name": "ipython",
    "version": 3
   },
   "file_extension": ".py",
   "mimetype": "text/x-python",
   "name": "python",
   "nbconvert_exporter": "python",
   "pygments_lexer": "ipython3",
   "version": "3.8.3"
  }
 },
 "nbformat": 4,
 "nbformat_minor": 4
}
